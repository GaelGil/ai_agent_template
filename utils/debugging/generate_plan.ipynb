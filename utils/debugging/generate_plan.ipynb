{
 "cells": [
  {
   "cell_type": "code",
   "execution_count": 6,
   "id": "3d97234f-c440-4398-9f69-19f2eefd3150",
   "metadata": {},
   "outputs": [],
   "source": [
    "from openai import OpenAI\n",
    "from pydantic import BaseModel, Field\n",
    "from typing import Literal, Optional, List\n",
    "import logging\n",
    "import asyncio\n",
    "import os\n",
    "from dotenv import load_dotenv\n",
    "from pathlib import Path\n",
    "import pickle\n",
    "\n",
    "load_dotenv(Path(\"../.env\"))\n",
    "logger = logging.getLogger(__name__)"
   ]
  },
  {
   "cell_type": "code",
   "execution_count": 2,
   "id": "92cf3299-b98a-493a-acb3-d32c3b822e9f",
   "metadata": {},
   "outputs": [],
   "source": [
    "class OpenAIClient:\n",
    "    def __init__(self, api_key: str) -> None:\n",
    "        \"\"\"\n",
    "        Args:\n",
    "            model_name: The name of the openai model we are using\n",
    "            api_key: The api key for our openai model\n",
    "        Returns:\n",
    "        \"\"\"\n",
    "        self.client = OpenAI(api_key=api_key)\n",
    "\n",
    "    def get_client(self) -> OpenAI:\n",
    "        \"\"\"\n",
    "        Args:\n",
    "            None\n",
    "\n",
    "        Returns:\n",
    "            The openai client\n",
    "        \"\"\"\n",
    "        return self.client"
   ]
  },
  {
   "cell_type": "code",
   "execution_count": 3,
   "id": "a63711c6-df97-4d2a-9764-cbf31c1c55bd",
   "metadata": {},
   "outputs": [],
   "source": [
    "llm = OpenAIClient(api_key=os.getenv(\"OPENAI_API_KEY\")).get_client()"
   ]
  },
  {
   "cell_type": "code",
   "execution_count": 4,
   "id": "044f1ee1-4f5a-4082-bbbf-82b19c9a0b8b",
   "metadata": {},
   "outputs": [],
   "source": [
    "from typing import Any, Dict, Optional, Union\n",
    "from fastmcp.client.client import Client\n",
    "from contextlib import asynccontextmanager\n",
    "\n",
    "\n",
    "class MCPClient:\n",
    "    def __init__(self, config: Union[str, dict] = \"http://localhost:8050/sse\"):\n",
    "        \"\"\"Initialize the MCP client.\n",
    "\n",
    "        Args:\n",
    "            config (Union[str, dict]): Either a URL string or a configuration dictionary.\n",
    "                If string: Treated as the URL of the MCP server.\n",
    "                If dict: Should follow the MCP configuration format with 'mcpServers' key.\n",
    "        \"\"\"\n",
    "        self.config = config\n",
    "        self._client = None\n",
    "        self._is_connected = False\n",
    "\n",
    "    async def connect(self):\n",
    "        \"\"\"Connect to the MCP server(s).\"\"\"\n",
    "        if self._is_connected:\n",
    "            return\n",
    "\n",
    "        if isinstance(self.config, str):\n",
    "            # For SSE transport, we just need the URL\n",
    "            self._client = Client(self.config)\n",
    "        else:\n",
    "            # Configuration mode with multiple servers\n",
    "            self._client = Client(self.config)\n",
    "\n",
    "        await self._client.__aenter__()\n",
    "        self._is_connected = True\n",
    "\n",
    "    async def disconnect(self):\n",
    "        \"\"\"Disconnect from the MCP server(s).\"\"\"\n",
    "        if self._is_connected and self._client:\n",
    "            await self._client.__aexit__(None, None, None)\n",
    "            self._is_connected = False\n",
    "            self._client = None\n",
    "\n",
    "    @asynccontextmanager\n",
    "    async def session(self):\n",
    "        \"\"\"Context manager for session management.\"\"\"\n",
    "        try:\n",
    "            await self.connect()\n",
    "            yield self\n",
    "        finally:\n",
    "            await self.disconnect()\n",
    "\n",
    "    async def list_servers(self) -> list:\n",
    "        \"\"\"List available MCP servers.\"\"\"\n",
    "        if not self._is_connected:\n",
    "            raise RuntimeError(\"Not connected to MCP server(s)\")\n",
    "        return list(self._client.servers.keys())\n",
    "\n",
    "    async def list_tools(self) -> list:\n",
    "        \"\"\"List available tools.\n",
    "\n",
    "        Returns:\n",
    "            list: List of available tools.\n",
    "        \"\"\"\n",
    "        if not self._is_connected:\n",
    "            raise RuntimeError(\"Not connected to MCP server(s)\")\n",
    "        return await self._client.list_tools()\n",
    "\n",
    "    async def get_tools(self) -> list[dict[str, Any]]:\n",
    "        \"\"\"Retrieve tools in a format compatible with OpenAI function calling.\n",
    "\n",
    "        Returns:\n",
    "            list[dict[str, Any]]: List of tools in OpenAI function calling format.\n",
    "        \"\"\"\n",
    "        if not self._is_connected:\n",
    "            raise RuntimeError(\"Not connected to MCP server(s)\")\n",
    "\n",
    "        tools = await self.list_tools()\n",
    "        openai_tools = []\n",
    "\n",
    "        for tool in tools:\n",
    "            openai_tools.append(\n",
    "                {\n",
    "                    \"type\": \"function\",\n",
    "                    \"name\": tool.name,\n",
    "                    \"description\": tool.description,\n",
    "                    \"parameters\": {\n",
    "                        \"type\": \"object\",\n",
    "                        \"properties\": tool.inputSchema.get(\"properties\", {}),\n",
    "                        \"required\": tool.inputSchema.get(\"required\", []),\n",
    "                    },\n",
    "                }\n",
    "            )\n",
    "\n",
    "        return openai_tools\n",
    "\n",
    "    async def call_tool(\n",
    "        self, tool_name: str, arguments: Dict[str, Any], server: Optional[str] = None\n",
    "    ) -> Any:\n",
    "        \"\"\"Call a tool.\n",
    "\n",
    "        Args:\n",
    "            tool_name (str): The name of the tool to call.\n",
    "            arguments (Dict[str, Any]): The arguments to pass to the tool.\n",
    "            server (str, optional): Specific server to call the tool on.\n",
    "                                 If None, the client will try to find the tool\n",
    "                                 in any of the available servers.\n",
    "\n",
    "        Returns:\n",
    "            Any: The result of the tool call.\n",
    "        \"\"\"\n",
    "        if not self._is_connected:\n",
    "            raise RuntimeError(\"Not connected to MCP server(s)\")\n",
    "\n",
    "        result = await self._client.call_tool(tool_name, arguments, server)\n",
    "        return result.content[0].text if result.content else None"
   ]
  },
  {
   "cell_type": "code",
   "execution_count": 7,
   "id": "a65a9bc9-22a0-483e-8865-7c4386924be8",
   "metadata": {},
   "outputs": [],
   "source": [
    "        mcp_client = MCPClient()\n",
    "        await mcp_client.connect()\n",
    "\n",
    "        logger.info(\"Getting tools from MCP...\")\n",
    "        tools = await mcp_client.get_tools()\n",
    "        logger.info(f\"Loaded {len(tools)} tools from MCP\")"
   ]
  },
  {
   "cell_type": "code",
   "execution_count": 8,
   "id": "399ea509-b44a-425c-a0c9-cc6a3bbe41d9",
   "metadata": {},
   "outputs": [
    {
     "data": {
      "text/plain": [
       "[{'type': 'function',\n",
       "  'name': 'get_weather',\n",
       "  'description': 'Get current temperature for provided coordinates in celsius',\n",
       "  'parameters': {'type': 'object',\n",
       "   'properties': {'latitude': {'title': 'latitude', 'type': 'string'},\n",
       "    'longitude': {'title': 'longitude', 'type': 'string'}},\n",
       "   'required': ['latitude', 'longitude']}},\n",
       " {'type': 'function',\n",
       "  'name': 'wiki_search',\n",
       "  'description': 'Get current temperature for provided coordinates in celsius',\n",
       "  'parameters': {'type': 'object',\n",
       "   'properties': {'query': {'title': 'Query', 'type': 'string'},\n",
       "    'sentences': {'default': 2, 'title': 'Sentences', 'type': 'integer'}},\n",
       "   'required': ['query']}},\n",
       " {'type': 'function',\n",
       "  'name': 'save_txt',\n",
       "  'description': 'Save text to a .txt file',\n",
       "  'parameters': {'type': 'object',\n",
       "   'properties': {'text': {'title': 'Text', 'type': 'string'},\n",
       "    'filename': {'default': 'output.txt',\n",
       "     'title': 'Filename',\n",
       "     'type': 'string'}},\n",
       "   'required': ['text']}},\n",
       " {'type': 'function',\n",
       "  'name': 'writer_tool',\n",
       "  'description': 'Save JSON data to a .json file',\n",
       "  'parameters': {'type': 'object',\n",
       "   'properties': {'query': {'title': 'Query', 'type': 'string'},\n",
       "    'context': {'title': 'Context', 'type': 'string'}},\n",
       "   'required': ['query', 'context']}},\n",
       " {'type': 'function',\n",
       "  'name': 'review_tool',\n",
       "  'description': 'Save JSON data to a .json file',\n",
       "  'parameters': {'type': 'object',\n",
       "   'properties': {'essay': {'title': 'Essay', 'type': 'string'},\n",
       "    'context': {'title': 'Context', 'type': 'string'}},\n",
       "   'required': ['essay', 'context']}},\n",
       " {'type': 'function',\n",
       "  'name': 'arxiv_search',\n",
       "  'description': 'Search arxiv',\n",
       "  'parameters': {'type': 'object',\n",
       "   'properties': {'query': {'title': 'Query', 'type': 'string'}},\n",
       "   'required': ['query']}}]"
      ]
     },
     "execution_count": 8,
     "metadata": {},
     "output_type": "execute_result"
    }
   ],
   "source": [
    "tools"
   ]
  },
  {
   "cell_type": "code",
   "execution_count": 14,
   "id": "fc9039a2-1b3f-4fee-964a-78314eac9554",
   "metadata": {},
   "outputs": [],
   "source": [
    "# Define prompt for planner agent\n",
    "PLANNER_AGENT_PROMPT = \"\"\"\n",
    "You are an expert essay writer planner.\n",
    "You take in essay writing request on a given topic or review an essay, and create comprehensive plans, breaking down the main task of writing an essay into smaller actionable tasks.\n",
    "\n",
    "CORE PRINCIPLE: Be direct and action-oriented. Minimize follow-up questions.\n",
    "\n",
    "DEFAULT ASSUMPTIONS FOR REQUESTS:\n",
    "- The request is about writing an essay on a given topic.\n",
    "- The request might be vague or unclear, one word, or unclear intent\n",
    "- The request might be very specific or clear\n",
    "- Request might be to simply review the essay\n",
    "\n",
    "IMMEDIATE PLANNING APPROACH:\n",
    "**WORKFLOW:**\n",
    "1. Always start by creating a plan (for writing an or reviewing an essay) with detailed tasks.\n",
    "2. Plan should consist of multiple tasks, \n",
    "3. Plan should be specific and actionable\n",
    "4. For each task in the plan, you MUST assign a tool to perform the task. FAILURE to do so will result in task FAIL.\n",
    "5. YOU must determine how many body paragraphs are sufficient to address the topic.\n",
    "6. Tools will be given to you and you MUST use them to perform each task with the given description.\n",
    "\n",
    "\n",
    "SAMPLE PLAN FOR WRITING ESSAY (NOT LIMITED TO ONLY THESE STEPS)\n",
    "Research topic/query,\n",
    "Select main points to use from research,\n",
    "Write introduction with some given context (ie research notes),\n",
    "write folow-up to introduction,\n",
    "Put what we have of the essay so far together (YOU DECIDE WHEN TO DO THAT)\n",
    "write followup to previous,\n",
    "write conclusion,\n",
    "review,\n",
    "edit,\n",
    "proofread,\n",
    "return essay\n",
    "\n",
    "SAMPLE PLAN FOR REVIEWING ESSAY (NOT LIMITED TO ONLY THESE STEPS)\n",
    "review,\n",
    "edit,\n",
    "proofread,\n",
    "return essay\n",
    "\n",
    "\n",
    "TOOL CALLING STRATEGY:\n",
    "- AVOID repetative tool calls\n",
    "- Use tools APPROPRIATELY\n",
    "Example of GOOD tool call \n",
    "Task= \"research this topic with a this query\" -> call research tool\n",
    "Task =\"need to write about a certain topic\" -> use results from tool call to write or simply just a query to write\n",
    "Example of BAD tool call\n",
    "Task= \"Write about a certain topic\" -> call research tool\n",
    "Tool usage MUST make sense with task\n",
    "\n",
    "MINIMAL QUESTIONS STRATEGY:\n",
    "- For vauge requests such as single words: generate an interesting topic ie: star wars -> star wars impact on modern culture, then plan and create tasks\n",
    "- For detailed requests: Create multiple tasks \n",
    "\n",
    "You will be given a output format that you must adhere to.\n",
    "\n",
    "Generate plans immediately without asking follow-up questions unless absolutely necessary.\n",
    "\"\"\""
   ]
  },
  {
   "cell_type": "code",
   "execution_count": 15,
   "id": "4a96fc43-5411-4035-a817-4ed1afa1bd36",
   "metadata": {},
   "outputs": [],
   "source": [
    "from typing import Any, Dict, List, Optional, Literal, ForwardRef\n",
    "\n",
    "class ToolArguments(BaseModel):\n",
    "    keys: List[str] = Field(description=\"A list of arguments to a tool\")\n",
    "    values: List[str] = Field(description=\"A list of argument values to a tool\")\n",
    "    # arguments: Dict[str, Any] = Field(description=\"A dictionary where keys are tool arguments and values are the tool call values\")\n",
    "\n",
    "\n",
    "class ToolCall(BaseModel):\n",
    "    \"\"\"Represents a tool call request from the LLM.\"\"\"\n",
    "\n",
    "    id: str = Field(description=\"The ID of the tool call.\")\n",
    "    name: str = Field(description=\"The name of the tool to call.\")\n",
    "    arguments: ToolArguments = Field(description=\"The arguments to call the tool with.\")\n",
    "\n",
    "\n",
    "class ToolCalls(BaseModel):\n",
    "    id: int = Field(description=\"An ID for the tool calls\")\n",
    "    tool_calls: List[ToolCall] = Field(\n",
    "        description=\"A list of tools to be executed sequentially.\"\n",
    "    )\n",
    "\n",
    "class PlannerTask(BaseModel):\n",
    "    \"\"\"Represents a single task generated by the Planner.\"\"\"\n",
    "\n",
    "    id: int = Field(description=\"Sequential ID for the task.\")\n",
    "    description: str = Field(\n",
    "        description=\"Clear description of the task to be executed.\"\n",
    "    )\n",
    "    tool_calls: List[ToolCall] = Field(\n",
    "        description=\"A list of tools to be executed sequentially to complete the task\"\n",
    "    )\n",
    "    status: Optional[\n",
    "        Literal[\n",
    "            \"input_required\",\n",
    "            \"completed\",\n",
    "            \"error\",\n",
    "            \"pending\",\n",
    "            \"incomplete\",\n",
    "            \"todo\",\n",
    "            \"not_started\",\n",
    "        ]\n",
    "    ] = Field(default=\"input_required\", description=\"Status of the task\")\n",
    "\n",
    "\n",
    "class Plan(BaseModel):\n",
    "    \"\"\"Output schema for the Planner Agent.\"\"\"\n",
    "\n",
    "    original_query: str = Field(description=\"The original user query for context.\")\n",
    "    description: str = Field(description=\"Clear description of the overall plan.\")\n",
    "    tasks: List[PlannerTask] = Field(\n",
    "        description=\"A list of tasks to be executed sequentially.\"\n",
    "    )\n",
    "\n",
    "\n",
    "class ToolResult(BaseModel):\n",
    "    \"\"\"Represents the result of a tool execution.\"\"\"\n",
    "\n",
    "    tool_call_id: str = Field(description=\"The ID of the tool call this result is for.\")\n",
    "    result: str = Field(description=\"The result of the tool execution.\")\n",
    "    is_error: bool = Field(\n",
    "        default=False, description=\"Whether the tool execution resulted in an error.\"\n",
    "    )\n",
    "\n",
    "\n",
    "class TaskExecutionResponse(BaseModel):\n",
    "    \"\"\"Represents a single task generated by the Planner.\"\"\"\n",
    "\n",
    "    id: int = Field(description=\"Id of task we are executing.\")\n",
    "    description: str = Field(description=\"Clear description of the task to be executed.\")\n",
    "    tools_sueggested: str = Field(description=\"A list of the tools suggested for the task\")\n",
    "    response_type: Optional[\n",
    "        Literal[\n",
    "            \"tool_calls\",\n",
    "            \"text\",\n",
    "        ]\n",
    "    ] = Field(default=\"input_required\", description=\"The response type of the task execution\")\n",
    "    tool_calls: List[ToolCall] = Field(description=\"A list of tool calls to be executed. Empty if response_type is text\")"
   ]
  },
  {
   "cell_type": "code",
   "execution_count": 16,
   "id": "55563082-c4e8-469b-b47b-615852fe396c",
   "metadata": {},
   "outputs": [],
   "source": [
    "class PlannerAgent:\n",
    "    def __init__(\n",
    "        self,\n",
    "        dev_prompt,\n",
    "        llm,\n",
    "        messages,\n",
    "        tools,\n",
    "        model_name: str = \"gpt-4.1-mini\",\n",
    "    ):\n",
    "        self.model_name = model_name\n",
    "        self.dev_prompt = dev_prompt\n",
    "        self.llm = llm\n",
    "        self.messages = messages\n",
    "        self.tools = tools\n",
    "        if self.dev_prompt:\n",
    "            self.messages.append({\"role\": \"developer\", \"content\": self.dev_prompt})\n",
    "\n",
    "    def add_messages(self, query: str):\n",
    "        self.messages.append({\"role\": \"user\", \"content\": query})\n",
    "\n",
    "    def plan(self, query: str):\n",
    "        \"\"\"Create a detailed plan to complete the request of the user.\n",
    "\n",
    "        Args:\n",
    "            query (str): The request of the user.\n",
    "\n",
    "        Returns:\n",
    "            Plan: The plan to complete the request of the user.\n",
    "        \"\"\"\n",
    "        self.add_messages(query=query)\n",
    "        response = self.llm.responses.parse(\n",
    "            model=self.model_name,\n",
    "            input=self.messages,\n",
    "            tools=self.tools,\n",
    "            text_format=Plan,\n",
    "        )\n",
    "        return response"
   ]
  },
  {
   "cell_type": "code",
   "execution_count": 19,
   "id": "84da1599-303f-4d9d-86f5-7f2b7285f696",
   "metadata": {},
   "outputs": [],
   "source": [
    "planner = PlannerAgent(\n",
    "    dev_prompt=PLANNER_AGENT_PROMPT,\n",
    "    llm=llm,\n",
    "    messages=[],\n",
    "    tools=tools,\n",
    "    model_name=\"gpt-4.1-mini\",\n",
    ")\n",
    "logger.info(\"Successfully initialized PlannerAgent\")"
   ]
  },
  {
   "cell_type": "code",
   "execution_count": 20,
   "id": "e9ae076a-6d61-4491-ade2-2db067872d70",
   "metadata": {},
   "outputs": [],
   "source": [
    "content = \"write an essay on the culture impact of the internet\""
   ]
  },
  {
   "cell_type": "code",
   "execution_count": 21,
   "id": "7b032bb2-ea6a-4111-9540-bf48d802fede",
   "metadata": {},
   "outputs": [],
   "source": [
    "# plan = planner.plan(content) # UNCOMMENT TO GENERATE A NEW PLAN"
   ]
  },
  {
   "cell_type": "code",
   "execution_count": 22,
   "id": "43420039-c423-4748-b2b5-75e58a0baffc",
   "metadata": {},
   "outputs": [
    {
     "data": {
      "text/plain": [
       "\"PLAN TYPE: <class 'openai.types.responses.parsed_response.ParsedResponse[Plan]'>\""
      ]
     },
     "execution_count": 22,
     "metadata": {},
     "output_type": "execute_result"
    }
   ],
   "source": [
    "f'PLAN TYPE: {type(plan)}'"
   ]
  },
  {
   "cell_type": "code",
   "execution_count": 187,
   "id": "d7f82e52-f593-4411-8d27-eca9ca776f4d",
   "metadata": {},
   "outputs": [],
   "source": [
    "# plan"
   ]
  },
  {
   "cell_type": "code",
   "execution_count": 25,
   "id": "30f0e0a7-05b5-4a9a-8a25-5f2ac1aa6ab2",
   "metadata": {},
   "outputs": [],
   "source": [
    "plan_parsed: Plan = plan.output_parsed"
   ]
  },
  {
   "cell_type": "code",
   "execution_count": 71,
   "id": "08891adc-a382-468f-b016-d11ee29cb40d",
   "metadata": {},
   "outputs": [],
   "source": [
    "with open(\"plan.pkl\", \"wb\") as f:\n",
    "    pickle.dump(plan_parsed.model_dump(), f)"
   ]
  },
  {
   "cell_type": "code",
   "execution_count": 26,
   "id": "5bb5ad22-4f54-42eb-ae2b-8c279b7ec415",
   "metadata": {},
   "outputs": [
    {
     "data": {
      "text/plain": [
       "\"PLAN PARSED: original_query='write an essay on the culture impact of the internet' description='Plan to write an essay on the cultural impact of the internet with structured research, writing, and review tasks.' tasks=[PlannerTask(id=1, description='Research the cultural impact of the internet to gather relevant and accurate information for the essay.', tool_calls=[ToolCall(id='1', name='functions.wiki_search', arguments=ToolArguments(keys=['query', 'sentences'], values=['cultural impact of the internet', '5']))], status='todo'), PlannerTask(id=2, description='Write the introduction paragraph for the essay, outlining the main topic and its significance.', tool_calls=[ToolCall(id='2', name='functions.wiki_search', arguments=ToolArguments(keys=['query'], values=['introduction to cultural impact of the internet']))], status='todo'), PlannerTask(id=3, description='Write the first body paragraph discussing the positive cultural impacts of the internet.', tool_calls=[ToolCall(id='3', name='functions.wiki_search', arguments=ToolArguments(keys=['query'], values=['positive cultural impacts of the internet']))], status='todo'), PlannerTask(id=4, description='Write the second body paragraph discussing the negative cultural impacts of the internet.', tool_calls=[ToolCall(id='4', name='functions.wiki_search', arguments=ToolArguments(keys=['query'], values=['negative cultural impacts of the internet']))], status='todo'), PlannerTask(id=5, description='Write the conclusion paragraph summarizing the cultural impact of the internet and its overall influence on society.', tool_calls=[ToolCall(id='5', name='functions.wiki_search', arguments=ToolArguments(keys=['query'], values=['conclusion on cultural impact of the internet']))], status='todo'), PlannerTask(id=6, description='Review and edit the entire essay for coherence, grammar, and style.', tool_calls=[ToolCall(id='6', name='functions.review_tool', arguments=ToolArguments(keys=['essay', 'context'], values=['', 'Cultural impact of the internet essay review']))], status='todo')]\""
      ]
     },
     "execution_count": 26,
     "metadata": {},
     "output_type": "execute_result"
    }
   ],
   "source": [
    "f'PLAN PARSED: {plan_parsed}'"
   ]
  },
  {
   "cell_type": "code",
   "execution_count": 190,
   "id": "e4866980-37b8-446b-9bfe-1a6c8950e558",
   "metadata": {},
   "outputs": [
    {
     "data": {
      "text/plain": [
       "PlannerTask(id=1, description='Research the cultural impact of the internet to gather relevant facts, examples, and perspectives.', tool_calls=[ToolCall(id='1', name='functions.wiki_search', arguments=ToolArguments(keys=['query', 'sentences'], values=['cultural impact of the internet', '5']))], status='todo')"
      ]
     },
     "execution_count": 190,
     "metadata": {},
     "output_type": "execute_result"
    }
   ],
   "source": [
    "plan_parsed.tasks[0] # select first task"
   ]
  },
  {
   "cell_type": "code",
   "execution_count": 191,
   "id": "a15a0be6-b210-436f-9f2b-0b0441b1dde4",
   "metadata": {},
   "outputs": [
    {
     "data": {
      "text/plain": [
       "ToolCall(id='1', name='functions.wiki_search', arguments=ToolArguments(keys=['query', 'sentences'], values=['cultural impact of the internet', '5']))"
      ]
     },
     "execution_count": 191,
     "metadata": {},
     "output_type": "execute_result"
    }
   ],
   "source": [
    "plan_parsed.tasks[0].tool_calls[0] # select first tool call in task"
   ]
  },
  {
   "cell_type": "code",
   "execution_count": 193,
   "id": "8fb3e3e4-042e-4614-adb7-91b41cfd4e2b",
   "metadata": {},
   "outputs": [
    {
     "data": {
      "text/plain": [
       "ToolArguments(keys=['query', 'sentences'], values=['cultural impact of the internet', '5'])"
      ]
     },
     "execution_count": 193,
     "metadata": {},
     "output_type": "execute_result"
    }
   ],
   "source": [
    "plan_parsed.tasks[0].tool_calls[0].arguments # select the arguments in the frist tool call within the first task"
   ]
  },
  {
   "cell_type": "code",
   "execution_count": 194,
   "id": "41f90e50-3dfe-45f7-8af6-6abb08976833",
   "metadata": {},
   "outputs": [
    {
     "data": {
      "text/plain": [
       "['query', 'sentences']"
      ]
     },
     "execution_count": 194,
     "metadata": {},
     "output_type": "execute_result"
    }
   ],
   "source": [
    "plan_parsed.tasks[0].tool_calls[0].arguments.keys"
   ]
  },
  {
   "cell_type": "code",
   "execution_count": 207,
   "id": "da48de4c-3ccc-46b5-85c5-b0aca70ed558",
   "metadata": {},
   "outputs": [],
   "source": [
    "tool = {'name': plan_parsed.tasks[0].tool_calls[0].name.split('.')[-1]}"
   ]
  },
  {
   "cell_type": "code",
   "execution_count": 208,
   "id": "68749a47-2338-4dc9-bcf1-cedf8b0497cc",
   "metadata": {},
   "outputs": [],
   "source": [
    "tool_call_keys = plan_parsed.tasks[0].tool_calls[0].arguments.keys\n",
    "tool_call_values = plan_parsed.tasks[0].tool_calls[0].arguments.values\n",
    "for i in range(len(plan_parsed.tasks[0].tool_calls[0].arguments.keys)):\n",
    "    tool[plan_parsed.tasks[0].tool_calls[0].arguments.keys[i]] = plan_parsed.tasks[0].tool_calls[0].arguments.values[i]"
   ]
  },
  {
   "cell_type": "code",
   "execution_count": 209,
   "id": "c6804527-5aef-46d1-b92c-3289a79596cc",
   "metadata": {},
   "outputs": [
    {
     "data": {
      "text/plain": [
       "{'name': 'wiki_search',\n",
       " 'query': 'cultural impact of the internet',\n",
       " 'sentences': '5'}"
      ]
     },
     "execution_count": 209,
     "metadata": {},
     "output_type": "execute_result"
    }
   ],
   "source": [
    "tool"
   ]
  },
  {
   "cell_type": "code",
   "execution_count": null,
   "id": "1e47556e-fe69-4a54-9d24-5318dcef7466",
   "metadata": {},
   "outputs": [],
   "source": []
  }
 ],
 "metadata": {
  "kernelspec": {
   "display_name": "Python 3 (ipykernel)",
   "language": "python",
   "name": "python3"
  },
  "language_info": {
   "codemirror_mode": {
    "name": "ipython",
    "version": 3
   },
   "file_extension": ".py",
   "mimetype": "text/x-python",
   "name": "python",
   "nbconvert_exporter": "python",
   "pygments_lexer": "ipython3",
   "version": "3.13.1"
  }
 },
 "nbformat": 4,
 "nbformat_minor": 5
}
