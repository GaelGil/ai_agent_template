{
 "cells": [
  {
   "cell_type": "code",
   "execution_count": 6,
   "id": "3d97234f-c440-4398-9f69-19f2eefd3150",
   "metadata": {},
   "outputs": [],
   "source": [
    "from openai import OpenAI\n",
    "from pydantic import BaseModel, Field\n",
    "from typing import Literal, Optional, List\n",
    "import logging\n",
    "import asyncio\n",
    "import os\n",
    "from dotenv import load_dotenv\n",
    "from pathlib import Path\n",
    "load_dotenv(Path(\"../.env\"))\n",
    "logger = logging.getLogger(__name__)"
   ]
  },
  {
   "cell_type": "code",
   "execution_count": 2,
   "id": "92cf3299-b98a-493a-acb3-d32c3b822e9f",
   "metadata": {},
   "outputs": [],
   "source": [
    "class OpenAIClient:\n",
    "    def __init__(self, api_key: str) -> None:\n",
    "        \"\"\"\n",
    "        Args:\n",
    "            model_name: The name of the openai model we are using\n",
    "            api_key: The api key for our openai model\n",
    "        Returns:\n",
    "        \"\"\"\n",
    "        self.client = OpenAI(api_key=api_key)\n",
    "\n",
    "    def get_client(self) -> OpenAI:\n",
    "        \"\"\"\n",
    "        Args:\n",
    "            None\n",
    "\n",
    "        Returns:\n",
    "            The openai client\n",
    "        \"\"\"\n",
    "        return self.client"
   ]
  },
  {
   "cell_type": "code",
   "execution_count": 3,
   "id": "a63711c6-df97-4d2a-9764-cbf31c1c55bd",
   "metadata": {},
   "outputs": [],
   "source": [
    "llm = OpenAIClient(api_key=os.getenv(\"OPENAI_API_KEY\")).get_client()"
   ]
  },
  {
   "cell_type": "code",
   "execution_count": 4,
   "id": "044f1ee1-4f5a-4082-bbbf-82b19c9a0b8b",
   "metadata": {},
   "outputs": [],
   "source": [
    "from typing import Any, Dict, Optional, Union\n",
    "from fastmcp.client.client import Client\n",
    "from contextlib import asynccontextmanager\n",
    "\n",
    "\n",
    "class MCPClient:\n",
    "    def __init__(self, config: Union[str, dict] = \"http://localhost:8050/sse\"):\n",
    "        \"\"\"Initialize the MCP client.\n",
    "\n",
    "        Args:\n",
    "            config (Union[str, dict]): Either a URL string or a configuration dictionary.\n",
    "                If string: Treated as the URL of the MCP server.\n",
    "                If dict: Should follow the MCP configuration format with 'mcpServers' key.\n",
    "        \"\"\"\n",
    "        self.config = config\n",
    "        self._client = None\n",
    "        self._is_connected = False\n",
    "\n",
    "    async def connect(self):\n",
    "        \"\"\"Connect to the MCP server(s).\"\"\"\n",
    "        if self._is_connected:\n",
    "            return\n",
    "\n",
    "        if isinstance(self.config, str):\n",
    "            # For SSE transport, we just need the URL\n",
    "            self._client = Client(self.config)\n",
    "        else:\n",
    "            # Configuration mode with multiple servers\n",
    "            self._client = Client(self.config)\n",
    "\n",
    "        await self._client.__aenter__()\n",
    "        self._is_connected = True\n",
    "\n",
    "    async def disconnect(self):\n",
    "        \"\"\"Disconnect from the MCP server(s).\"\"\"\n",
    "        if self._is_connected and self._client:\n",
    "            await self._client.__aexit__(None, None, None)\n",
    "            self._is_connected = False\n",
    "            self._client = None\n",
    "\n",
    "    @asynccontextmanager\n",
    "    async def session(self):\n",
    "        \"\"\"Context manager for session management.\"\"\"\n",
    "        try:\n",
    "            await self.connect()\n",
    "            yield self\n",
    "        finally:\n",
    "            await self.disconnect()\n",
    "\n",
    "    async def list_servers(self) -> list:\n",
    "        \"\"\"List available MCP servers.\"\"\"\n",
    "        if not self._is_connected:\n",
    "            raise RuntimeError(\"Not connected to MCP server(s)\")\n",
    "        return list(self._client.servers.keys())\n",
    "\n",
    "    async def list_tools(self) -> list:\n",
    "        \"\"\"List available tools.\n",
    "\n",
    "        Returns:\n",
    "            list: List of available tools.\n",
    "        \"\"\"\n",
    "        if not self._is_connected:\n",
    "            raise RuntimeError(\"Not connected to MCP server(s)\")\n",
    "        return await self._client.list_tools()\n",
    "\n",
    "    async def get_tools(self) -> list[dict[str, Any]]:\n",
    "        \"\"\"Retrieve tools in a format compatible with OpenAI function calling.\n",
    "\n",
    "        Returns:\n",
    "            list[dict[str, Any]]: List of tools in OpenAI function calling format.\n",
    "        \"\"\"\n",
    "        if not self._is_connected:\n",
    "            raise RuntimeError(\"Not connected to MCP server(s)\")\n",
    "\n",
    "        tools = await self.list_tools()\n",
    "        openai_tools = []\n",
    "\n",
    "        for tool in tools:\n",
    "            openai_tools.append(\n",
    "                {\n",
    "                    \"type\": \"function\",\n",
    "                    \"name\": tool.name,\n",
    "                    \"description\": tool.description,\n",
    "                    \"parameters\": {\n",
    "                        \"type\": \"object\",\n",
    "                        \"properties\": tool.inputSchema.get(\"properties\", {}),\n",
    "                        \"required\": tool.inputSchema.get(\"required\", []),\n",
    "                    },\n",
    "                }\n",
    "            )\n",
    "\n",
    "        return openai_tools\n",
    "\n",
    "    async def call_tool(\n",
    "        self, tool_name: str, arguments: Dict[str, Any], server: Optional[str] = None\n",
    "    ) -> Any:\n",
    "        \"\"\"Call a tool.\n",
    "\n",
    "        Args:\n",
    "            tool_name (str): The name of the tool to call.\n",
    "            arguments (Dict[str, Any]): The arguments to pass to the tool.\n",
    "            server (str, optional): Specific server to call the tool on.\n",
    "                                 If None, the client will try to find the tool\n",
    "                                 in any of the available servers.\n",
    "\n",
    "        Returns:\n",
    "            Any: The result of the tool call.\n",
    "        \"\"\"\n",
    "        if not self._is_connected:\n",
    "            raise RuntimeError(\"Not connected to MCP server(s)\")\n",
    "\n",
    "        result = await self._client.call_tool(tool_name, arguments, server)\n",
    "        return result.content[0].text if result.content else None"
   ]
  },
  {
   "cell_type": "code",
   "execution_count": 7,
   "id": "a65a9bc9-22a0-483e-8865-7c4386924be8",
   "metadata": {},
   "outputs": [],
   "source": [
    "        mcp_client = MCPClient()\n",
    "        await mcp_client.connect()\n",
    "\n",
    "        logger.info(\"Getting tools from MCP...\")\n",
    "        tools = await mcp_client.get_tools()\n",
    "        logger.info(f\"Loaded {len(tools)} tools from MCP\")"
   ]
  },
  {
   "cell_type": "code",
   "execution_count": 8,
   "id": "399ea509-b44a-425c-a0c9-cc6a3bbe41d9",
   "metadata": {},
   "outputs": [
    {
     "data": {
      "text/plain": [
       "[{'type': 'function',\n",
       "  'name': 'get_weather',\n",
       "  'description': 'Get current temperature for provided coordinates in celsius',\n",
       "  'parameters': {'type': 'object',\n",
       "   'properties': {'latitude': {'title': 'latitude', 'type': 'string'},\n",
       "    'longitude': {'title': 'longitude', 'type': 'string'}},\n",
       "   'required': ['latitude', 'longitude']}},\n",
       " {'type': 'function',\n",
       "  'name': 'wiki_search',\n",
       "  'description': 'Get current temperature for provided coordinates in celsius',\n",
       "  'parameters': {'type': 'object',\n",
       "   'properties': {'query': {'title': 'Query', 'type': 'string'},\n",
       "    'sentences': {'default': 2, 'title': 'Sentences', 'type': 'integer'}},\n",
       "   'required': ['query']}},\n",
       " {'type': 'function',\n",
       "  'name': 'save_txt',\n",
       "  'description': 'Save text to a .txt file',\n",
       "  'parameters': {'type': 'object',\n",
       "   'properties': {'text': {'title': 'Text', 'type': 'string'},\n",
       "    'filename': {'default': 'output.txt',\n",
       "     'title': 'Filename',\n",
       "     'type': 'string'}},\n",
       "   'required': ['text']}},\n",
       " {'type': 'function',\n",
       "  'name': 'writer_tool',\n",
       "  'description': 'Save JSON data to a .json file',\n",
       "  'parameters': {'type': 'object',\n",
       "   'properties': {'query': {'title': 'Query', 'type': 'string'},\n",
       "    'context': {'title': 'Context', 'type': 'string'}},\n",
       "   'required': ['query', 'context']}},\n",
       " {'type': 'function',\n",
       "  'name': 'review_tool',\n",
       "  'description': 'Save JSON data to a .json file',\n",
       "  'parameters': {'type': 'object',\n",
       "   'properties': {'essay': {'title': 'Essay', 'type': 'string'},\n",
       "    'context': {'title': 'Context', 'type': 'string'}},\n",
       "   'required': ['essay', 'context']}},\n",
       " {'type': 'function',\n",
       "  'name': 'arxiv_search',\n",
       "  'description': 'Search arxiv',\n",
       "  'parameters': {'type': 'object',\n",
       "   'properties': {'query': {'title': 'Query', 'type': 'string'}},\n",
       "   'required': ['query']}}]"
      ]
     },
     "execution_count": 8,
     "metadata": {},
     "output_type": "execute_result"
    }
   ],
   "source": [
    "tools"
   ]
  },
  {
   "cell_type": "code",
   "execution_count": 14,
   "id": "fc9039a2-1b3f-4fee-964a-78314eac9554",
   "metadata": {},
   "outputs": [],
   "source": [
    "# Define prompt for planner agent\n",
    "PLANNER_AGENT_PROMPT = \"\"\"\n",
    "You are an expert essay writer planner.\n",
    "You take in essay writing request on a given topic or review an essay, and create comprehensive plans, breaking down the main task of writing an essay into smaller actionable tasks.\n",
    "\n",
    "CORE PRINCIPLE: Be direct and action-oriented. Minimize follow-up questions.\n",
    "\n",
    "DEFAULT ASSUMPTIONS FOR REQUESTS:\n",
    "- The request is about writing an essay on a given topic.\n",
    "- The request might be vague or unclear, one word, or unclear intent\n",
    "- The request might be very specific or clear\n",
    "- Request might be to simply review the essay\n",
    "\n",
    "IMMEDIATE PLANNING APPROACH:\n",
    "**WORKFLOW:**\n",
    "1. Always start by creating a plan (for writing an or reviewing an essay) with detailed tasks.\n",
    "2. Plan should consist of multiple tasks, This is an example but is not limited to [write introduction, research topic, write folow-up, write followup, write conclusion, review, edit, proofread, return essay]\n",
    "or [review, edit, proof read, return essay]\n",
    "3. Plan should be specific and actionable\n",
    "4. For each task in the plan, you MUST assign a tool to perform the task. Fail to do so will result in an task FAIL.\n",
    "7. YOU must determine how many body paragraphs are sufficient to address the topic.\n",
    "8. Tools will be given to you and you MUST use them to perform each task with the given description.\n",
    "FAILURE TO CALL A TOOL WILL RESULT IN A TASK FAIL\n",
    "\n",
    "TOOL CALLING STRATEGY:\n",
    "- AVOID repetative tool calls\n",
    "- Use tools APPROPRIATELY\n",
    "Example of GOOD tool call \n",
    "Task= \"research this topic with a this query\" -> call research tool\n",
    "Task =\"need to write about a certain topic\" -> use results from tool call to write or simply just a query to write\n",
    "Example of BAD tool call\n",
    "Task= \"Write about a certain topic\" -> call research tool\n",
    "Tool usage MUST make sense with task\n",
    "\n",
    "MINIMAL QUESTIONS STRATEGY:\n",
    "- For vauge requests such as single words: generate an interesting topic ie: star wars -> star wars impact on modern culture, then plan and create tasks\n",
    "- For detailed requests: Create multiple tasks \n",
    "\n",
    "You will be given a output format that you must adhere to.\n",
    "\n",
    "Generate plans immediately without asking follow-up questions unless absolutely necessary.\n",
    "\"\"\""
   ]
  },
  {
   "cell_type": "code",
   "execution_count": 15,
   "id": "4a96fc43-5411-4035-a817-4ed1afa1bd36",
   "metadata": {},
   "outputs": [],
   "source": [
    "from typing import Any, Dict, List, Optional, Literal, ForwardRef\n",
    "\n",
    "class ToolArguments(BaseModel):\n",
    "    keys: List[str] = Field(description=\"A list of arguments to a tool\")\n",
    "    values: List[str] = Field(description=\"A list of argument values to a tool\")\n",
    "    # arguments: Dict[str, Any] = Field(description=\"A dictionary where keys are tool arguments and values are the tool call values\")\n",
    "\n",
    "\n",
    "class ToolCall(BaseModel):\n",
    "    \"\"\"Represents a tool call request from the LLM.\"\"\"\n",
    "\n",
    "    id: str = Field(description=\"The ID of the tool call.\")\n",
    "    name: str = Field(description=\"The name of the tool to call.\")\n",
    "    arguments: ToolArguments = Field(description=\"The arguments to call the tool with.\")\n",
    "\n",
    "\n",
    "class ToolCalls(BaseModel):\n",
    "    id: int = Field(description=\"An ID for the tool calls\")\n",
    "    tool_calls: List[ToolCall] = Field(\n",
    "        description=\"A list of tools to be executed sequentially.\"\n",
    "    )\n",
    "\n",
    "\n",
    "\n",
    "class PlannerTask(BaseModel):\n",
    "    \"\"\"Represents a single task generated by the Planner.\"\"\"\n",
    "\n",
    "    id: int = Field(description=\"Sequential ID for the task.\")\n",
    "    description: str = Field(\n",
    "        description=\"Clear description of the task to be executed.\"\n",
    "    )\n",
    "    tool_calls: List[ToolCall] = Field(\n",
    "        description=\"A list of tools to be executed sequentially to complete the task\"\n",
    "    )\n",
    "    status: Optional[\n",
    "        Literal[\n",
    "            \"input_required\",\n",
    "            \"completed\",\n",
    "            \"error\",\n",
    "            \"pending\",\n",
    "            \"incomplete\",\n",
    "            \"todo\",\n",
    "            \"not_started\",\n",
    "        ]\n",
    "    ] = Field(default=\"input_required\", description=\"Status of the task\")\n",
    "\n",
    "\n",
    "class Plan(BaseModel):\n",
    "    \"\"\"Output schema for the Planner Agent.\"\"\"\n",
    "\n",
    "    original_query: str = Field(description=\"The original user query for context.\")\n",
    "    description: str = Field(description=\"Clear description of the overall plan.\")\n",
    "    tasks: List[PlannerTask] = Field(\n",
    "        description=\"A list of tasks to be executed sequentially.\"\n",
    "    )\n",
    "\n",
    "\n",
    "class ToolResult(BaseModel):\n",
    "    \"\"\"Represents the result of a tool execution.\"\"\"\n",
    "\n",
    "    tool_call_id: str = Field(description=\"The ID of the tool call this result is for.\")\n",
    "    result: str = Field(description=\"The result of the tool execution.\")\n",
    "    is_error: bool = Field(\n",
    "        default=False, description=\"Whether the tool execution resulted in an error.\"\n",
    "    )\n",
    "\n",
    "\n",
    "class ResponseFormat(BaseModel):\n",
    "    \"\"\"Respond to the user in this format.\"\"\"\n",
    "\n",
    "    status: Literal[\"input_required\", \"completed\", \"error\"] = \"input_required\"\n",
    "    question: str = Field(\n",
    "        description=\"Input needed from the user to generate the code search plan\"\n",
    "    )\n",
    "    content: Plan = Field(\n",
    "        description=\"List of tasks when the code search plan is generated\"\n",
    "    )\n",
    "\n",
    "\n",
    "class TaskExecutionResponse(BaseModel):\n",
    "    \"\"\"Represents a single task generated by the Planner.\"\"\"\n",
    "\n",
    "    id: int = Field(description=\"Id of task we are executing.\")\n",
    "    description: str = Field(description=\"Clear description of the task to be executed.\")\n",
    "    tools_sueggested: str = Field(description=\"A list of the tools suggested for the task\")\n",
    "    response_type: Optional[\n",
    "        Literal[\n",
    "            \"tool_calls\",\n",
    "            \"text\",\n",
    "        ]\n",
    "    ] = Field(default=\"input_required\", description=\"The response type of the task execution\")\n",
    "    tool_calls: List[ToolCall] = Field(description=\"A list of tool calls to be executed. Empty if response_type is text\")\n",
    "\n",
    "\n",
    "class ContentResponse(BaseModel):\n",
    "    type: str = Field(\n",
    "        description=\"The type of content such as body paragraph, introduction conclusion etc\"\n",
    "    )\n",
    "    context_used: str = Field(description=\"The context used to generate the content\")\n",
    "    content: str = Field(description=\"The content generated by the agent\")"
   ]
  },
  {
   "cell_type": "code",
   "execution_count": 16,
   "id": "55563082-c4e8-469b-b47b-615852fe396c",
   "metadata": {},
   "outputs": [],
   "source": [
    "class PlannerAgent:\n",
    "    def __init__(\n",
    "        self,\n",
    "        dev_prompt,\n",
    "        llm,\n",
    "        messages,\n",
    "        tools,\n",
    "        model_name: str = \"gpt-4.1-mini\",\n",
    "    ):\n",
    "        self.model_name = model_name\n",
    "        self.dev_prompt = dev_prompt\n",
    "        self.llm = llm\n",
    "        self.messages = messages\n",
    "        self.tools = tools\n",
    "        if self.dev_prompt:\n",
    "            self.messages.append({\"role\": \"developer\", \"content\": self.dev_prompt})\n",
    "\n",
    "    def add_messages(self, query: str):\n",
    "        self.messages.append({\"role\": \"user\", \"content\": query})\n",
    "\n",
    "    def plan(self, query: str):\n",
    "        \"\"\"Create a detailed plan to complete the request of the user.\n",
    "\n",
    "        Args:\n",
    "            query (str): The request of the user.\n",
    "\n",
    "        Returns:\n",
    "            Plan: The plan to complete the request of the user.\n",
    "        \"\"\"\n",
    "        self.add_messages(query=query)\n",
    "        response = self.llm.responses.parse(\n",
    "            model=self.model_name,\n",
    "            input=self.messages,\n",
    "            tools=self.tools,\n",
    "            text_format=Plan,\n",
    "        )\n",
    "        return response"
   ]
  },
  {
   "cell_type": "code",
   "execution_count": 66,
   "id": "de900605-da34-47b8-9e56-3c009e18f651",
   "metadata": {},
   "outputs": [],
   "source": [
    "class Executor:\n",
    "    \"\"\"Executor Class.\n",
    "\n",
    "    Methods:\n",
    "\n",
    "\n",
    "    Attributes:\n",
    "\n",
    "\n",
    "    \"\"\"\n",
    "\n",
    "    def __init__(self):\n",
    "        \"\"\"\n",
    "        Initialize the orchestrator\n",
    "        \"\"\"\n",
    "        self.tool_call_history: list = []\n",
    "        \n",
    "    def print_task(self, task: PlannerTask, previous_task_results: list) -> None:\n",
    "        \"\"\"Print the given task generated by the planner agent\n",
    "\n",
    "        Args:\n",
    "            task: The task to print.\n",
    "            previous_task_results: The results of the previous task.\n",
    "\n",
    "        Returns:\n",
    "            None\n",
    "        \"\"\"\n",
    "        print(f\"\"\"\n",
    "              Executing task: \\n\n",
    "              Task ID: {task.id} \\n\n",
    "              Task description: {task.description} \\n\n",
    "              Tool calls: {task.tool_calls} \\n\n",
    "              Task status: {task.status} \\n\n",
    "              Previous Task Results: {previous_task_results}\n",
    "        \"\"\")\n",
    "\n",
    "    def print_plan(self, plan: Plan) -> None:\n",
    "        \"\"\"Print the given plan generated by the planner agent\n",
    "\n",
    "        Args:\n",
    "            plan: The plan to print.\n",
    "\n",
    "        Returns:\n",
    "            None\n",
    "        \"\"\"\n",
    "        print(f\"\"\"\n",
    "              Plan to execute is: \\n\n",
    "              Plan ID: {plan.original_query}\n",
    "              Plan Description: {plan.description}\n",
    "         \"\"\")\n",
    "\n",
    "    async def call_tool(self, tool_calls: list[dict]) -> list[dict]:\n",
    "        \"\"\"Receives a list of tool calls and calls the tools\n",
    "\n",
    "        Args:\n",
    "            tool_calls: Either a list of tool call dicts or a string error message\n",
    "\n",
    "        Returns:\n",
    "            list[dict]: The results of the tool calls or error information\n",
    "        \"\"\"\n",
    "        # If we received an error message instead of tool calls\n",
    "        if isinstance(tool_calls, str):\n",
    "            return [{\"error\": True, \"message\": tool_calls}]\n",
    "\n",
    "        # # Ensure tool_calls is a list\n",
    "        if not isinstance(tool_calls, list):\n",
    "            return [\n",
    "                {\n",
    "                    \"error\": True,\n",
    "                    \"message\": f\"Expected list of tool calls, got {type(tool_calls).__name__}\",\n",
    "                }\n",
    "            ]\n",
    "        print(f'CALLING TOOLS: {tool_calls}')\n",
    "        results = []  # Tool call results\n",
    "        print(f'TOOL_CALLS: {tool_calls}')\n",
    "        for tool in tool_calls:  # For each tool\n",
    "            try:  # Try to call the tool\n",
    "                if not isinstance(tool, dict):  # If tool is not a dict return error\n",
    "                    results.append(\n",
    "                        {\n",
    "                            \"error\": True,\n",
    "                            \"message\": f\"Expected dict, got {type(tool).__name__}\",\n",
    "                        }\n",
    "                    )\n",
    "                    continue\n",
    "                # Extract tool name and arguments\n",
    "                name = tool['name']\n",
    "                arguments = tool['arguments']\n",
    "                print(f'NAME: {name}')\n",
    "                print(f'ARGUMENTS: {arguments}')\n",
    "                print()\n",
    "                # If tool name is missing return error\n",
    "                if not name:\n",
    "                    results.append(\n",
    "                        {\"error\": True, \"message\": \"Tool call missing 'name' field\"}\n",
    "                    )\n",
    "                    continue\n",
    "\n",
    "                # Call the tool through MCP client\n",
    "                result = await mcp_client.call_tool(name, arguments)\n",
    "                # append tool call reults. Includes name, arguments, and result\n",
    "                results.append(\n",
    "                    {\"result\": result}\n",
    "                )\n",
    "                self.tool_call_history.append({\"name\": name, \"arguments\": arguments, \"result\": result, \"error\": False})\n",
    "            \n",
    "            # Handle exceptions\n",
    "            except Exception as e:\n",
    "                print(\"AT EXCEPTION\")\n",
    "                results.append(\n",
    "                    {\n",
    "                        \"error\": True,\n",
    "                        \"name\": name if \"name\" in locals() else \"unknown\",\n",
    "                        \"message\": f\"Error calling tool: {str(e)}\",\n",
    "                    }\n",
    "                )\n",
    "        print(f'RESULTS: {results}')\n",
    "        return results\n",
    "  \n",
    "    async def execute_task(\n",
    "        self, task: PlannerTask, previous_task_results: list\n",
    "    ) -> list[dict]:\n",
    "        \"\"\"Execute the given task generated by the planner agent\n",
    "\n",
    "        Args:\n",
    "            task: The task to execute.\n",
    "\n",
    "        Returns:\n",
    "            A list of results, each containing:\n",
    "                - name: The name of the tool called.\n",
    "                - arguments: The arguments passed to the tool.\n",
    "                - result: The result of the tool call.\n",
    "                - error: A boolean indicating whether an error occurred.\n",
    "        \"\"\"\n",
    "\n",
    "        # print current task\n",
    "        self.print_task(task, previous_task_results)\n",
    "        tool_calls = [] # var to hold tool_calls in current task\n",
    "        for i in range(len(task.tool_calls)): # for every tool call in the task\n",
    "            tool_call = task.tool_calls[i] # select the tool call\n",
    "            tools = self.extract_tools(tool_call) # extract the tool into {name: tool_name, arguments: {...} \n",
    "            tool_calls.append(tools) # add tool to tool_Calls list\n",
    "        \n",
    "        tool_call_results = await self.call_tool(tool_calls) # call the tools, should return [{'result': result} ...]\n",
    "        results = [result['result'] for result in tool_call_results]\n",
    "        \n",
    "        return results\n",
    "\n",
    "    def extract_tools(self, tool_call):\n",
    "        \"\"\" \"\"\"\n",
    "        tool = {\n",
    "            'name': tool_call.name.split('.')[-1],\n",
    "            'arguments': {}\n",
    "        }\n",
    "        tool_call_keys = tool_call.arguments.keys\n",
    "        tool_call_values = tool_call.arguments.values\n",
    "        for i in range(len(tool_call_values)):\n",
    "            tool[\"arguments\"][tool_call_keys[i]] = tool_call_values[i]\n",
    "\n",
    "        return tool\n",
    "\n",
    "    \n",
    "    async def execute_plan(self, plan: Plan) -> list:\n",
    "        \"\"\"Execute the given plan generated by the planner agent\n",
    "\n",
    "        Args:\n",
    "            plan: The plan to execute.\n",
    "\n",
    "        Returns:\n",
    "            A list of results\n",
    "        \"\"\"\n",
    "        self.print_plan(plan) # print the plan\n",
    "        results = ['no context yet'] # list to hold results of each task execution.\n",
    "        for i in range(len(plan.tasks)): # iterate through tasks\n",
    "            task: PlannerTask = plan.tasks[i] # select the task\n",
    "            res = await self.execute_task(task, results) # execute task\n",
    "            # append task execution results to list\n",
    "            results.append(\n",
    "                    {\n",
    "                        'task': task.description,\n",
    "                        'results': res,\n",
    "                    }\n",
    "            )\n",
    "\n",
    "        return results"
   ]
  },
  {
   "cell_type": "code",
   "execution_count": 67,
   "id": "fc47675d-e315-44b2-8d86-d35f66906a48",
   "metadata": {},
   "outputs": [],
   "source": [
    "executor = Executor()\n",
    "logger.info(\"Successfully initialized Orchestrator\")"
   ]
  },
  {
   "cell_type": "code",
   "execution_count": 19,
   "id": "84da1599-303f-4d9d-86f5-7f2b7285f696",
   "metadata": {},
   "outputs": [],
   "source": [
    "planner = PlannerAgent(\n",
    "    dev_prompt=PLANNER_AGENT_PROMPT,\n",
    "    llm=llm,\n",
    "    messages=[],\n",
    "    tools=tools,\n",
    "    model_name=\"gpt-4.1-mini\",\n",
    ")\n",
    "logger.info(\"Successfully initialized PlannerAgent\")"
   ]
  },
  {
   "cell_type": "code",
   "execution_count": 20,
   "id": "e9ae076a-6d61-4491-ade2-2db067872d70",
   "metadata": {},
   "outputs": [],
   "source": [
    "content = \"write an essay on the culture impact of the internet\""
   ]
  },
  {
   "cell_type": "code",
   "execution_count": 21,
   "id": "7b032bb2-ea6a-4111-9540-bf48d802fede",
   "metadata": {},
   "outputs": [],
   "source": [
    "plan = planner.plan(content)"
   ]
  },
  {
   "cell_type": "code",
   "execution_count": 22,
   "id": "43420039-c423-4748-b2b5-75e58a0baffc",
   "metadata": {},
   "outputs": [
    {
     "data": {
      "text/plain": [
       "\"PLAN TYPE: <class 'openai.types.responses.parsed_response.ParsedResponse[Plan]'>\""
      ]
     },
     "execution_count": 22,
     "metadata": {},
     "output_type": "execute_result"
    }
   ],
   "source": [
    "f'PLAN TYPE: {type(plan)}'"
   ]
  },
  {
   "cell_type": "code",
   "execution_count": 187,
   "id": "d7f82e52-f593-4411-8d27-eca9ca776f4d",
   "metadata": {},
   "outputs": [],
   "source": [
    "# plan"
   ]
  },
  {
   "cell_type": "code",
   "execution_count": 25,
   "id": "30f0e0a7-05b5-4a9a-8a25-5f2ac1aa6ab2",
   "metadata": {},
   "outputs": [],
   "source": [
    "plan_parsed: Plan = plan.output_parsed"
   ]
  },
  {
   "cell_type": "code",
   "execution_count": 26,
   "id": "5bb5ad22-4f54-42eb-ae2b-8c279b7ec415",
   "metadata": {},
   "outputs": [
    {
     "data": {
      "text/plain": [
       "\"PLAN PARSED: original_query='write an essay on the culture impact of the internet' description='Plan to write an essay on the cultural impact of the internet with structured research, writing, and review tasks.' tasks=[PlannerTask(id=1, description='Research the cultural impact of the internet to gather relevant and accurate information for the essay.', tool_calls=[ToolCall(id='1', name='functions.wiki_search', arguments=ToolArguments(keys=['query', 'sentences'], values=['cultural impact of the internet', '5']))], status='todo'), PlannerTask(id=2, description='Write the introduction paragraph for the essay, outlining the main topic and its significance.', tool_calls=[ToolCall(id='2', name='functions.wiki_search', arguments=ToolArguments(keys=['query'], values=['introduction to cultural impact of the internet']))], status='todo'), PlannerTask(id=3, description='Write the first body paragraph discussing the positive cultural impacts of the internet.', tool_calls=[ToolCall(id='3', name='functions.wiki_search', arguments=ToolArguments(keys=['query'], values=['positive cultural impacts of the internet']))], status='todo'), PlannerTask(id=4, description='Write the second body paragraph discussing the negative cultural impacts of the internet.', tool_calls=[ToolCall(id='4', name='functions.wiki_search', arguments=ToolArguments(keys=['query'], values=['negative cultural impacts of the internet']))], status='todo'), PlannerTask(id=5, description='Write the conclusion paragraph summarizing the cultural impact of the internet and its overall influence on society.', tool_calls=[ToolCall(id='5', name='functions.wiki_search', arguments=ToolArguments(keys=['query'], values=['conclusion on cultural impact of the internet']))], status='todo'), PlannerTask(id=6, description='Review and edit the entire essay for coherence, grammar, and style.', tool_calls=[ToolCall(id='6', name='functions.review_tool', arguments=ToolArguments(keys=['essay', 'context'], values=['', 'Cultural impact of the internet essay review']))], status='todo')]\""
      ]
     },
     "execution_count": 26,
     "metadata": {},
     "output_type": "execute_result"
    }
   ],
   "source": [
    "f'PLAN PARSED: {plan_parsed}'"
   ]
  },
  {
   "cell_type": "code",
   "execution_count": 190,
   "id": "e4866980-37b8-446b-9bfe-1a6c8950e558",
   "metadata": {},
   "outputs": [
    {
     "data": {
      "text/plain": [
       "PlannerTask(id=1, description='Research the cultural impact of the internet to gather relevant facts, examples, and perspectives.', tool_calls=[ToolCall(id='1', name='functions.wiki_search', arguments=ToolArguments(keys=['query', 'sentences'], values=['cultural impact of the internet', '5']))], status='todo')"
      ]
     },
     "execution_count": 190,
     "metadata": {},
     "output_type": "execute_result"
    }
   ],
   "source": [
    "plan_parsed.tasks[0] # select first task"
   ]
  },
  {
   "cell_type": "code",
   "execution_count": 191,
   "id": "a15a0be6-b210-436f-9f2b-0b0441b1dde4",
   "metadata": {},
   "outputs": [
    {
     "data": {
      "text/plain": [
       "ToolCall(id='1', name='functions.wiki_search', arguments=ToolArguments(keys=['query', 'sentences'], values=['cultural impact of the internet', '5']))"
      ]
     },
     "execution_count": 191,
     "metadata": {},
     "output_type": "execute_result"
    }
   ],
   "source": [
    "plan_parsed.tasks[0].tool_calls[0] # select first tool call in task"
   ]
  },
  {
   "cell_type": "code",
   "execution_count": 193,
   "id": "8fb3e3e4-042e-4614-adb7-91b41cfd4e2b",
   "metadata": {},
   "outputs": [
    {
     "data": {
      "text/plain": [
       "ToolArguments(keys=['query', 'sentences'], values=['cultural impact of the internet', '5'])"
      ]
     },
     "execution_count": 193,
     "metadata": {},
     "output_type": "execute_result"
    }
   ],
   "source": [
    "plan_parsed.tasks[0].tool_calls[0].arguments # select the arguments in the frist tool call within the first task"
   ]
  },
  {
   "cell_type": "code",
   "execution_count": 194,
   "id": "41f90e50-3dfe-45f7-8af6-6abb08976833",
   "metadata": {},
   "outputs": [
    {
     "data": {
      "text/plain": [
       "['query', 'sentences']"
      ]
     },
     "execution_count": 194,
     "metadata": {},
     "output_type": "execute_result"
    }
   ],
   "source": [
    "plan_parsed.tasks[0].tool_calls[0].arguments.keys"
   ]
  },
  {
   "cell_type": "code",
   "execution_count": 207,
   "id": "da48de4c-3ccc-46b5-85c5-b0aca70ed558",
   "metadata": {},
   "outputs": [],
   "source": [
    "tool = {'name': plan_parsed.tasks[0].tool_calls[0].name.split('.')[-1]}"
   ]
  },
  {
   "cell_type": "code",
   "execution_count": 208,
   "id": "68749a47-2338-4dc9-bcf1-cedf8b0497cc",
   "metadata": {},
   "outputs": [],
   "source": [
    "tool_call_keys = plan_parsed.tasks[0].tool_calls[0].arguments.keys\n",
    "tool_call_values = plan_parsed.tasks[0].tool_calls[0].arguments.values\n",
    "for i in range(len(plan_parsed.tasks[0].tool_calls[0].arguments.keys)):\n",
    "    tool[plan_parsed.tasks[0].tool_calls[0].arguments.keys[i]] = plan_parsed.tasks[0].tool_calls[0].arguments.values[i]"
   ]
  },
  {
   "cell_type": "code",
   "execution_count": 209,
   "id": "c6804527-5aef-46d1-b92c-3289a79596cc",
   "metadata": {},
   "outputs": [
    {
     "data": {
      "text/plain": [
       "{'name': 'wiki_search',\n",
       " 'query': 'cultural impact of the internet',\n",
       " 'sentences': '5'}"
      ]
     },
     "execution_count": 209,
     "metadata": {},
     "output_type": "execute_result"
    }
   ],
   "source": [
    "tool"
   ]
  },
  {
   "cell_type": "code",
   "execution_count": 59,
   "id": "20dca763-7a1d-4650-b6a4-fb5962cd8999",
   "metadata": {},
   "outputs": [
    {
     "data": {
      "text/plain": [
       "[]"
      ]
     },
     "execution_count": 59,
     "metadata": {},
     "output_type": "execute_result"
    }
   ],
   "source": [
    "executor.tool_call_history"
   ]
  },
  {
   "cell_type": "code",
   "execution_count": 68,
   "id": "8cb80860-28f7-4ea8-b1d1-9890f1c91e89",
   "metadata": {},
   "outputs": [
    {
     "name": "stdout",
     "output_type": "stream",
     "text": [
      "\n",
      "              Plan to execute is: \n",
      "\n",
      "              Plan ID: write an essay on the culture impact of the internet\n",
      "              Plan Description: Plan to write an essay on the cultural impact of the internet with structured research, writing, and review tasks.\n",
      "         \n",
      "\n",
      "              Executing task: \n",
      "\n",
      "              Task ID: 1 \n",
      "\n",
      "              Task description: Research the cultural impact of the internet to gather relevant and accurate information for the essay. \n",
      "\n",
      "              Tool calls: [ToolCall(id='1', name='functions.wiki_search', arguments=ToolArguments(keys=['query', 'sentences'], values=['cultural impact of the internet', '5']))] \n",
      "\n",
      "              Task status: todo \n",
      "\n",
      "              Previous Task Results: ['no context yet']\n",
      "        \n",
      "CALLING TOOLS: [{'name': 'wiki_search', 'arguments': {'query': 'cultural impact of the internet', 'sentences': '5'}}]\n",
      "TOOL_CALLS: [{'name': 'wiki_search', 'arguments': {'query': 'cultural impact of the internet', 'sentences': '5'}}]\n",
      "NAME: wiki_search\n",
      "ARGUMENTS: {'query': 'cultural impact of the internet', 'sentences': '5'}\n",
      "\n",
      "RESULTS: [{'result': 'The American singer-songwriter Beyoncé has had a significant cultural impact through her music, visuals, performances, image, politics and lifestyle. She has received widespread acclaim and numerous accolades throughout her career, solidifying her position as an influential cultural icon and one of the greatest artists of all time according to numerous major publications.\\nBeyoncé has revolutionized the music industry, transforming the production, distribution, promotion, and consumption of music. She has been credited with reviving both the album and the music video as art forms, popularizing surprise albums and visual albums, and changing the Global Release Day to Friday. Her artistic innovations, such as staccato rap-singing and chopped and re-pitched vocals, have become defining features of 21st century popular music.'}]\n",
      "\n",
      "              Executing task: \n",
      "\n",
      "              Task ID: 2 \n",
      "\n",
      "              Task description: Write the introduction paragraph for the essay, outlining the main topic and its significance. \n",
      "\n",
      "              Tool calls: [ToolCall(id='2', name='functions.wiki_search', arguments=ToolArguments(keys=['query'], values=['introduction to cultural impact of the internet']))] \n",
      "\n",
      "              Task status: todo \n",
      "\n",
      "              Previous Task Results: ['no context yet', {'task': 'Research the cultural impact of the internet to gather relevant and accurate information for the essay.', 'results': ['The American singer-songwriter Beyoncé has had a significant cultural impact through her music, visuals, performances, image, politics and lifestyle. She has received widespread acclaim and numerous accolades throughout her career, solidifying her position as an influential cultural icon and one of the greatest artists of all time according to numerous major publications.\\nBeyoncé has revolutionized the music industry, transforming the production, distribution, promotion, and consumption of music. She has been credited with reviving both the album and the music video as art forms, popularizing surprise albums and visual albums, and changing the Global Release Day to Friday. Her artistic innovations, such as staccato rap-singing and chopped and re-pitched vocals, have become defining features of 21st century popular music.']}]\n",
      "        \n",
      "CALLING TOOLS: [{'name': 'wiki_search', 'arguments': {'query': 'introduction to cultural impact of the internet'}}]\n",
      "TOOL_CALLS: [{'name': 'wiki_search', 'arguments': {'query': 'introduction to cultural impact of the internet'}}]\n",
      "NAME: wiki_search\n",
      "ARGUMENTS: {'query': 'introduction to cultural impact of the internet'}\n",
      "\n",
      "RESULTS: [{'result': 'The American singer-songwriter Beyoncé has had a significant cultural impact through her music, visuals, performances, image, politics and lifestyle. She has received widespread acclaim and numerous accolades throughout her career, solidifying her position as an influential cultural icon and one of the greatest artists of all time according to numerous major publications.'}]\n",
      "\n",
      "              Executing task: \n",
      "\n",
      "              Task ID: 3 \n",
      "\n",
      "              Task description: Write the first body paragraph discussing the positive cultural impacts of the internet. \n",
      "\n",
      "              Tool calls: [ToolCall(id='3', name='functions.wiki_search', arguments=ToolArguments(keys=['query'], values=['positive cultural impacts of the internet']))] \n",
      "\n",
      "              Task status: todo \n",
      "\n",
      "              Previous Task Results: ['no context yet', {'task': 'Research the cultural impact of the internet to gather relevant and accurate information for the essay.', 'results': ['The American singer-songwriter Beyoncé has had a significant cultural impact through her music, visuals, performances, image, politics and lifestyle. She has received widespread acclaim and numerous accolades throughout her career, solidifying her position as an influential cultural icon and one of the greatest artists of all time according to numerous major publications.\\nBeyoncé has revolutionized the music industry, transforming the production, distribution, promotion, and consumption of music. She has been credited with reviving both the album and the music video as art forms, popularizing surprise albums and visual albums, and changing the Global Release Day to Friday. Her artistic innovations, such as staccato rap-singing and chopped and re-pitched vocals, have become defining features of 21st century popular music.']}, {'task': 'Write the introduction paragraph for the essay, outlining the main topic and its significance.', 'results': ['The American singer-songwriter Beyoncé has had a significant cultural impact through her music, visuals, performances, image, politics and lifestyle. She has received widespread acclaim and numerous accolades throughout her career, solidifying her position as an influential cultural icon and one of the greatest artists of all time according to numerous major publications.']}]\n",
      "        \n",
      "CALLING TOOLS: [{'name': 'wiki_search', 'arguments': {'query': 'positive cultural impacts of the internet'}}]\n",
      "TOOL_CALLS: [{'name': 'wiki_search', 'arguments': {'query': 'positive cultural impacts of the internet'}}]\n",
      "NAME: wiki_search\n",
      "ARGUMENTS: {'query': 'positive cultural impacts of the internet'}\n",
      "\n",
      "RESULTS: [{'result': \"No Wikipedia page found for 'positive cultural impacts of the internet'.\"}]\n",
      "\n",
      "              Executing task: \n",
      "\n",
      "              Task ID: 4 \n",
      "\n",
      "              Task description: Write the second body paragraph discussing the negative cultural impacts of the internet. \n",
      "\n",
      "              Tool calls: [ToolCall(id='4', name='functions.wiki_search', arguments=ToolArguments(keys=['query'], values=['negative cultural impacts of the internet']))] \n",
      "\n",
      "              Task status: todo \n",
      "\n",
      "              Previous Task Results: ['no context yet', {'task': 'Research the cultural impact of the internet to gather relevant and accurate information for the essay.', 'results': ['The American singer-songwriter Beyoncé has had a significant cultural impact through her music, visuals, performances, image, politics and lifestyle. She has received widespread acclaim and numerous accolades throughout her career, solidifying her position as an influential cultural icon and one of the greatest artists of all time according to numerous major publications.\\nBeyoncé has revolutionized the music industry, transforming the production, distribution, promotion, and consumption of music. She has been credited with reviving both the album and the music video as art forms, popularizing surprise albums and visual albums, and changing the Global Release Day to Friday. Her artistic innovations, such as staccato rap-singing and chopped and re-pitched vocals, have become defining features of 21st century popular music.']}, {'task': 'Write the introduction paragraph for the essay, outlining the main topic and its significance.', 'results': ['The American singer-songwriter Beyoncé has had a significant cultural impact through her music, visuals, performances, image, politics and lifestyle. She has received widespread acclaim and numerous accolades throughout her career, solidifying her position as an influential cultural icon and one of the greatest artists of all time according to numerous major publications.']}, {'task': 'Write the first body paragraph discussing the positive cultural impacts of the internet.', 'results': [\"No Wikipedia page found for 'positive cultural impacts of the internet'.\"]}]\n",
      "        \n",
      "CALLING TOOLS: [{'name': 'wiki_search', 'arguments': {'query': 'negative cultural impacts of the internet'}}]\n",
      "TOOL_CALLS: [{'name': 'wiki_search', 'arguments': {'query': 'negative cultural impacts of the internet'}}]\n",
      "NAME: wiki_search\n",
      "ARGUMENTS: {'query': 'negative cultural impacts of the internet'}\n",
      "\n",
      "RESULTS: [{'result': 'An Internet meme, or meme (, MEEM), is a cultural item (such as an idea, behavior, or style) that spreads across the Internet, primarily through social media platforms. Internet memes manifest in a variety of formats, including images, videos, GIFs, and other viral content.'}]\n",
      "\n",
      "              Executing task: \n",
      "\n",
      "              Task ID: 5 \n",
      "\n",
      "              Task description: Write the conclusion paragraph summarizing the cultural impact of the internet and its overall influence on society. \n",
      "\n",
      "              Tool calls: [ToolCall(id='5', name='functions.wiki_search', arguments=ToolArguments(keys=['query'], values=['conclusion on cultural impact of the internet']))] \n",
      "\n",
      "              Task status: todo \n",
      "\n",
      "              Previous Task Results: ['no context yet', {'task': 'Research the cultural impact of the internet to gather relevant and accurate information for the essay.', 'results': ['The American singer-songwriter Beyoncé has had a significant cultural impact through her music, visuals, performances, image, politics and lifestyle. She has received widespread acclaim and numerous accolades throughout her career, solidifying her position as an influential cultural icon and one of the greatest artists of all time according to numerous major publications.\\nBeyoncé has revolutionized the music industry, transforming the production, distribution, promotion, and consumption of music. She has been credited with reviving both the album and the music video as art forms, popularizing surprise albums and visual albums, and changing the Global Release Day to Friday. Her artistic innovations, such as staccato rap-singing and chopped and re-pitched vocals, have become defining features of 21st century popular music.']}, {'task': 'Write the introduction paragraph for the essay, outlining the main topic and its significance.', 'results': ['The American singer-songwriter Beyoncé has had a significant cultural impact through her music, visuals, performances, image, politics and lifestyle. She has received widespread acclaim and numerous accolades throughout her career, solidifying her position as an influential cultural icon and one of the greatest artists of all time according to numerous major publications.']}, {'task': 'Write the first body paragraph discussing the positive cultural impacts of the internet.', 'results': [\"No Wikipedia page found for 'positive cultural impacts of the internet'.\"]}, {'task': 'Write the second body paragraph discussing the negative cultural impacts of the internet.', 'results': ['An Internet meme, or meme (, MEEM), is a cultural item (such as an idea, behavior, or style) that spreads across the Internet, primarily through social media platforms. Internet memes manifest in a variety of formats, including images, videos, GIFs, and other viral content.']}]\n",
      "        \n",
      "CALLING TOOLS: [{'name': 'wiki_search', 'arguments': {'query': 'conclusion on cultural impact of the internet'}}]\n",
      "TOOL_CALLS: [{'name': 'wiki_search', 'arguments': {'query': 'conclusion on cultural impact of the internet'}}]\n",
      "NAME: wiki_search\n",
      "ARGUMENTS: {'query': 'conclusion on cultural impact of the internet'}\n",
      "\n",
      "RESULTS: [{'result': 'Madonna (born 1958) is an American singer whose socio-cultural impact has been noted by popular press and media scholars from different fields throughout the late-twentieth and early twenty-first centuries on an international scale. \\nNamed by Time magazine as one of the most powerful women of the 20th century, Madonna was included among remarkable American figures by some publications and cultural institutions, including the Smithsonian, Encyclopædia Britannica and Discovery Channel.'}]\n",
      "\n",
      "              Executing task: \n",
      "\n",
      "              Task ID: 6 \n",
      "\n",
      "              Task description: Review and edit the entire essay for coherence, grammar, and style. \n",
      "\n",
      "              Tool calls: [ToolCall(id='6', name='functions.review_tool', arguments=ToolArguments(keys=['essay', 'context'], values=['', 'Cultural impact of the internet essay review']))] \n",
      "\n",
      "              Task status: todo \n",
      "\n",
      "              Previous Task Results: ['no context yet', {'task': 'Research the cultural impact of the internet to gather relevant and accurate information for the essay.', 'results': ['The American singer-songwriter Beyoncé has had a significant cultural impact through her music, visuals, performances, image, politics and lifestyle. She has received widespread acclaim and numerous accolades throughout her career, solidifying her position as an influential cultural icon and one of the greatest artists of all time according to numerous major publications.\\nBeyoncé has revolutionized the music industry, transforming the production, distribution, promotion, and consumption of music. She has been credited with reviving both the album and the music video as art forms, popularizing surprise albums and visual albums, and changing the Global Release Day to Friday. Her artistic innovations, such as staccato rap-singing and chopped and re-pitched vocals, have become defining features of 21st century popular music.']}, {'task': 'Write the introduction paragraph for the essay, outlining the main topic and its significance.', 'results': ['The American singer-songwriter Beyoncé has had a significant cultural impact through her music, visuals, performances, image, politics and lifestyle. She has received widespread acclaim and numerous accolades throughout her career, solidifying her position as an influential cultural icon and one of the greatest artists of all time according to numerous major publications.']}, {'task': 'Write the first body paragraph discussing the positive cultural impacts of the internet.', 'results': [\"No Wikipedia page found for 'positive cultural impacts of the internet'.\"]}, {'task': 'Write the second body paragraph discussing the negative cultural impacts of the internet.', 'results': ['An Internet meme, or meme (, MEEM), is a cultural item (such as an idea, behavior, or style) that spreads across the Internet, primarily through social media platforms. Internet memes manifest in a variety of formats, including images, videos, GIFs, and other viral content.']}, {'task': 'Write the conclusion paragraph summarizing the cultural impact of the internet and its overall influence on society.', 'results': ['Madonna (born 1958) is an American singer whose socio-cultural impact has been noted by popular press and media scholars from different fields throughout the late-twentieth and early twenty-first centuries on an international scale. \\nNamed by Time magazine as one of the most powerful women of the 20th century, Madonna was included among remarkable American figures by some publications and cultural institutions, including the Smithsonian, Encyclopædia Britannica and Discovery Channel.']}]\n",
      "        \n",
      "CALLING TOOLS: [{'name': 'review_tool', 'arguments': {'essay': '', 'context': 'Cultural impact of the internet essay review'}}]\n",
      "TOOL_CALLS: [{'name': 'review_tool', 'arguments': {'essay': '', 'context': 'Cultural impact of the internet essay review'}}]\n",
      "NAME: review_tool\n",
      "ARGUMENTS: {'essay': '', 'context': 'Cultural impact of the internet essay review'}\n",
      "\n",
      "AT EXCEPTION\n",
      "RESULTS: [{'error': True, 'name': 'review_tool', 'message': \"Error calling tool: Error executing tool review_tool: Unsupported response_format type - <class 'str'>\"}]\n"
     ]
    },
    {
     "ename": "KeyError",
     "evalue": "'result'",
     "output_type": "error",
     "traceback": [
      "\u001b[31m---------------------------------------------------------------------------\u001b[39m",
      "\u001b[31mKeyError\u001b[39m                                  Traceback (most recent call last)",
      "\u001b[36mCell\u001b[39m\u001b[36m \u001b[39m\u001b[32mIn[68]\u001b[39m\u001b[32m, line 1\u001b[39m\n\u001b[32m----> \u001b[39m\u001b[32m1\u001b[39m res = \u001b[38;5;28;01mawait\u001b[39;00m executor.execute_plan(plan_parsed)\n",
      "\u001b[36mCell\u001b[39m\u001b[36m \u001b[39m\u001b[32mIn[66]\u001b[39m\u001b[32m, line 176\u001b[39m, in \u001b[36mExecutor.execute_plan\u001b[39m\u001b[34m(self, plan)\u001b[39m\n\u001b[32m    174\u001b[39m \u001b[38;5;28;01mfor\u001b[39;00m i \u001b[38;5;129;01min\u001b[39;00m \u001b[38;5;28mrange\u001b[39m(\u001b[38;5;28mlen\u001b[39m(plan.tasks)): \u001b[38;5;66;03m# iterate through tasks\u001b[39;00m\n\u001b[32m    175\u001b[39m     task: PlannerTask = plan.tasks[i] \u001b[38;5;66;03m# select the task\u001b[39;00m\n\u001b[32m--> \u001b[39m\u001b[32m176\u001b[39m     res = \u001b[38;5;28;01mawait\u001b[39;00m \u001b[38;5;28mself\u001b[39m.execute_task(task, results) \u001b[38;5;66;03m# execute task\u001b[39;00m\n\u001b[32m    177\u001b[39m     \u001b[38;5;66;03m# append task execution results to list\u001b[39;00m\n\u001b[32m    178\u001b[39m     results.append(\n\u001b[32m    179\u001b[39m             {\n\u001b[32m    180\u001b[39m                 \u001b[33m'\u001b[39m\u001b[33mtask\u001b[39m\u001b[33m'\u001b[39m: task.description,\n\u001b[32m    181\u001b[39m                 \u001b[33m'\u001b[39m\u001b[33mresults\u001b[39m\u001b[33m'\u001b[39m: res,\n\u001b[32m    182\u001b[39m             }\n\u001b[32m    183\u001b[39m     )\n",
      "\u001b[36mCell\u001b[39m\u001b[36m \u001b[39m\u001b[32mIn[66]\u001b[39m\u001b[32m, line 145\u001b[39m, in \u001b[36mExecutor.execute_task\u001b[39m\u001b[34m(self, task, previous_task_results)\u001b[39m\n\u001b[32m    142\u001b[39m     tool_calls.append(tools) \u001b[38;5;66;03m# add tool to tool_Calls list\u001b[39;00m\n\u001b[32m    144\u001b[39m tool_call_results = \u001b[38;5;28;01mawait\u001b[39;00m \u001b[38;5;28mself\u001b[39m.call_tool(tool_calls) \u001b[38;5;66;03m# call the tools, should return [{'result': result} ...]\u001b[39;00m\n\u001b[32m--> \u001b[39m\u001b[32m145\u001b[39m results = [\u001b[43mresult\u001b[49m\u001b[43m[\u001b[49m\u001b[33;43m'\u001b[39;49m\u001b[33;43mresult\u001b[39;49m\u001b[33;43m'\u001b[39;49m\u001b[43m]\u001b[49m \u001b[38;5;28;01mfor\u001b[39;00m result \u001b[38;5;129;01min\u001b[39;00m tool_call_results]\n\u001b[32m    147\u001b[39m \u001b[38;5;28;01mreturn\u001b[39;00m results\n",
      "\u001b[31mKeyError\u001b[39m: 'result'"
     ]
    }
   ],
   "source": [
    "res = await executor.execute_plan(plan_parsed)"
   ]
  },
  {
   "cell_type": "code",
   "execution_count": 38,
   "id": "0c8a10b4-02f3-4fa2-9fce-e9d531cf76f2",
   "metadata": {},
   "outputs": [
    {
     "data": {
      "text/plain": [
       "\"RES TYPE: <class 'openai.types.responses.parsed_response.ParsedResponse[ToolCalls]'>\""
      ]
     },
     "execution_count": 38,
     "metadata": {},
     "output_type": "execute_result"
    }
   ],
   "source": [
    "f'RES TYPE: {type(res)}'"
   ]
  },
  {
   "cell_type": "code",
   "execution_count": 72,
   "id": "1a9f09b1-ffe9-40d4-8f1c-2d87e1e12fe7",
   "metadata": {},
   "outputs": [
    {
     "data": {
      "text/plain": [
       "['no context yet',\n",
       " {'task_id': 1,\n",
       "  'task': 'Research the cultural impact of the internet, gathering information on key aspects such as communication, social behavior, access to information, and changes in cultural norms.',\n",
       "  'results': [{'name': 'wiki_search',\n",
       "    'arguments': {'query': 'cultural impact of the internet', 'retries': 2},\n",
       "    'result': 'hello'}]},\n",
       " {'task_id': 2,\n",
       "  'task': \"Write the introduction paragraph that introduces the topic of the internet's cultural impact and outlines the main points to be discussed.\",\n",
       "  'results': [{'name': 'wiki_search',\n",
       "    'arguments': {'query': 'internet cultural impact introduction',\n",
       "     'retries': 1},\n",
       "    'result': 'hello'}]},\n",
       " {'task_id': 3,\n",
       "  'task': 'Write the first body paragraph discussing how the internet has transformed communication and social interactions in culture.',\n",
       "  'results': [{'name': 'wiki_search',\n",
       "    'arguments': {'query': 'internet impact on communication and social interaction',\n",
       "     'retries': 2},\n",
       "    'result': 'hello'}]},\n",
       " {'task_id': 4,\n",
       "  'task': \"Write the second body paragraph discussing the internet's role in changing access to information and knowledge dissemination across cultures.\",\n",
       "  'results': [{'name': 'wiki_search',\n",
       "    'arguments': {'query': 'internet impact on information access and knowledge dissemination',\n",
       "     'retries': 2},\n",
       "    'result': 'hello'}]},\n",
       " {'task_id': 5,\n",
       "  'task': \"Write the third body paragraph discussing the internet's influence on cultural norms, values, and identity.\",\n",
       "  'results': [{'name': 'wiki_search',\n",
       "    'arguments': {'query': 'internet influence on cultural norms and identity',\n",
       "     'retries': 2},\n",
       "    'result': 'hello'}]},\n",
       " {'task_id': 6,\n",
       "  'task': \"Write the conclusion paragraph summarizing the key points about the internet's cultural impact and reflecting on future implications.\",\n",
       "  'results': [{'name': 'wiki_search',\n",
       "    'arguments': {'query': 'internet cultural impact conclusion',\n",
       "     'retries': 1},\n",
       "    'result': 'hello'}]},\n",
       " {'task_id': 7,\n",
       "  'task': 'Review the entire essay draft for coherence, flow, and completeness.',\n",
       "  'results': []},\n",
       " {'task_id': 8,\n",
       "  'task': 'Edit the essay for grammar, style, and clarity improvements.',\n",
       "  'results': []},\n",
       " {'task_id': 9,\n",
       "  'task': 'Proofread the final version of the essay to ensure there are no errors.',\n",
       "  'results': []},\n",
       " {'task_id': 10,\n",
       "  'task': 'Return the completed essay text to the user.',\n",
       "  'results': []}]"
      ]
     },
     "execution_count": 72,
     "metadata": {},
     "output_type": "execute_result"
    }
   ],
   "source": [
    "res"
   ]
  },
  {
   "cell_type": "code",
   "execution_count": 40,
   "id": "7a65e4ad-8340-4481-819f-dd2a30f18e7c",
   "metadata": {},
   "outputs": [
    {
     "data": {
      "text/plain": [
       "['__abstractmethods__',\n",
       " '__annotations__',\n",
       " '__class__',\n",
       " '__class_getitem__',\n",
       " '__class_vars__',\n",
       " '__copy__',\n",
       " '__deepcopy__',\n",
       " '__delattr__',\n",
       " '__dict__',\n",
       " '__dir__',\n",
       " '__doc__',\n",
       " '__eq__',\n",
       " '__fields__',\n",
       " '__fields_set__',\n",
       " '__firstlineno__',\n",
       " '__format__',\n",
       " '__ge__',\n",
       " '__get_pydantic_core_schema__',\n",
       " '__get_pydantic_json_schema__',\n",
       " '__getattr__',\n",
       " '__getattribute__',\n",
       " '__getstate__',\n",
       " '__gt__',\n",
       " '__hash__',\n",
       " '__init__',\n",
       " '__init_subclass__',\n",
       " '__iter__',\n",
       " '__le__',\n",
       " '__lt__',\n",
       " '__module__',\n",
       " '__ne__',\n",
       " '__new__',\n",
       " '__orig_bases__',\n",
       " '__parameters__',\n",
       " '__pretty__',\n",
       " '__private_attributes__',\n",
       " '__pydantic_complete__',\n",
       " '__pydantic_computed_fields__',\n",
       " '__pydantic_core_schema__',\n",
       " '__pydantic_custom_init__',\n",
       " '__pydantic_decorators__',\n",
       " '__pydantic_extra__',\n",
       " '__pydantic_fields__',\n",
       " '__pydantic_fields_set__',\n",
       " '__pydantic_generic_metadata__',\n",
       " '__pydantic_init_subclass__',\n",
       " '__pydantic_parent_namespace__',\n",
       " '__pydantic_post_init__',\n",
       " '__pydantic_private__',\n",
       " '__pydantic_root_model__',\n",
       " '__pydantic_serializer__',\n",
       " '__pydantic_setattr_handlers__',\n",
       " '__pydantic_validator__',\n",
       " '__reduce__',\n",
       " '__reduce_ex__',\n",
       " '__replace__',\n",
       " '__repr__',\n",
       " '__repr_args__',\n",
       " '__repr_name__',\n",
       " '__repr_recursion__',\n",
       " '__repr_str__',\n",
       " '__rich_repr__',\n",
       " '__setattr__',\n",
       " '__setstate__',\n",
       " '__signature__',\n",
       " '__sizeof__',\n",
       " '__slots__',\n",
       " '__static_attributes__',\n",
       " '__str__',\n",
       " '__subclasshook__',\n",
       " '__weakref__',\n",
       " '_abc_impl',\n",
       " '_calculate_keys',\n",
       " '_copy_and_set_values',\n",
       " '_get_value',\n",
       " '_iter',\n",
       " '_request_id',\n",
       " '_setattr_handler',\n",
       " 'background',\n",
       " 'construct',\n",
       " 'copy',\n",
       " 'created_at',\n",
       " 'dict',\n",
       " 'error',\n",
       " 'from_orm',\n",
       " 'id',\n",
       " 'incomplete_details',\n",
       " 'instructions',\n",
       " 'json',\n",
       " 'max_output_tokens',\n",
       " 'max_tool_calls',\n",
       " 'metadata',\n",
       " 'model',\n",
       " 'model_computed_fields',\n",
       " 'model_config',\n",
       " 'model_construct',\n",
       " 'model_copy',\n",
       " 'model_dump',\n",
       " 'model_dump_json',\n",
       " 'model_extra',\n",
       " 'model_fields',\n",
       " 'model_fields_set',\n",
       " 'model_json_schema',\n",
       " 'model_parametrized_name',\n",
       " 'model_post_init',\n",
       " 'model_rebuild',\n",
       " 'model_validate',\n",
       " 'model_validate_json',\n",
       " 'model_validate_strings',\n",
       " 'object',\n",
       " 'output',\n",
       " 'output_parsed',\n",
       " 'output_text',\n",
       " 'parallel_tool_calls',\n",
       " 'parse_file',\n",
       " 'parse_obj',\n",
       " 'parse_raw',\n",
       " 'previous_response_id',\n",
       " 'prompt',\n",
       " 'reasoning',\n",
       " 'schema',\n",
       " 'schema_json',\n",
       " 'service_tier',\n",
       " 'status',\n",
       " 'temperature',\n",
       " 'text',\n",
       " 'to_dict',\n",
       " 'to_json',\n",
       " 'tool_choice',\n",
       " 'tools',\n",
       " 'top_logprobs',\n",
       " 'top_p',\n",
       " 'truncation',\n",
       " 'update_forward_refs',\n",
       " 'usage',\n",
       " 'user',\n",
       " 'validate']"
      ]
     },
     "execution_count": 40,
     "metadata": {},
     "output_type": "execute_result"
    }
   ],
   "source": [
    "dir(res)"
   ]
  },
  {
   "cell_type": "code",
   "execution_count": 73,
   "id": "4f6d0ad2-73ee-46ae-953a-07a36adab948",
   "metadata": {},
   "outputs": [
    {
     "data": {
      "text/plain": [
       "[ParsedResponseOutputMessage[ToolCalls](id='msg_688a9e76085481a3bde383437260ae670d566afc8ad6c133', content=[ParsedResponseOutputText[ToolCalls](annotations=[], text='{\"id\":1,\"tool_calls\":[{\"id\":\"1\",\"name\":\"functions.wiki_search\",\"arguments\":{\"query\":\"cultural impact of the internet\",\"retries\":2}}]}', type='output_text', logprobs=[], parsed=ToolCalls(id=1, tool_calls=[ToolCall(id='1', name='functions.wiki_search', arguments=ToolArguments(query='cultural impact of the internet', retries=2))]))], role='assistant', status='completed', type='message'),\n",
       " ParsedResponseOutputMessage[ToolCalls](id='msg_688a9e76b78881a39e45b71462fea8580d566afc8ad6c133', content=[ParsedResponseOutputText[ToolCalls](annotations=[], text='{\"id\":2,\"tool_calls\":[{\"id\":\"2\",\"name\":\"functions.wiki_search\",\"arguments\":{\"query\":\"cultural impact of the internet\",\"retries\":2}}]}', type='output_text', logprobs=[], parsed=ToolCalls(id=2, tool_calls=[ToolCall(id='2', name='functions.wiki_search', arguments=ToolArguments(query='cultural impact of the internet', retries=2))]))], role='assistant', status='completed', type='message'),\n",
       " ParsedResponseOutputMessage[ToolCalls](id='msg_688a9e775fc081a3bf35f693cfebb1100d566afc8ad6c133', content=[ParsedResponseOutputText[ToolCalls](annotations=[], text='{\"id\":3,\"tool_calls\":[{\"id\":\"3\",\"name\":\"functions.arxiv_search\",\"arguments\":{\"query\":\"cultural impact of the internet\",\"retries\":2}}]}', type='output_text', logprobs=[], parsed=ToolCalls(id=3, tool_calls=[ToolCall(id='3', name='functions.arxiv_search', arguments=ToolArguments(query='cultural impact of the internet', retries=2))]))], role='assistant', status='completed', type='message'),\n",
       " ParsedResponseOutputMessage[ToolCalls](id='msg_688a9e7830dc81a3a8c8f7f0ccb8004a0d566afc8ad6c133', content=[ParsedResponseOutputText[ToolCalls](annotations=[], text='{\"id\":4,\"tool_calls\":[{\"id\":\"4\",\"name\":\"functions.wiki_search\",\"arguments\":{\"query\":\"influence of the internet on culture\",\"retries\":2}}]}', type='output_text', logprobs=[], parsed=ToolCalls(id=4, tool_calls=[ToolCall(id='4', name='functions.wiki_search', arguments=ToolArguments(query='influence of the internet on culture', retries=2))]))], role='assistant', status='completed', type='message'),\n",
       " ParsedResponseOutputMessage[ToolCalls](id='msg_688a9e790c4481a38893b643f7cf22d60d566afc8ad6c133', content=[ParsedResponseOutputText[ToolCalls](annotations=[], text='{\"id\":5,\"tool_calls\":[{\"id\":\"5\",\"name\":\"functions.wiki_search\",\"arguments\":{\"query\":\"influence of the internet on culture\",\"retries\":2}}]}', type='output_text', logprobs=[], parsed=ToolCalls(id=5, tool_calls=[ToolCall(id='5', name='functions.wiki_search', arguments=ToolArguments(query='influence of the internet on culture', retries=2))]))], role='assistant', status='completed', type='message'),\n",
       " ParsedResponseOutputMessage[ToolCalls](id='msg_688a9e79b4dc81a3afd54c90acda35790d566afc8ad6c133', content=[ParsedResponseOutputText[ToolCalls](annotations=[], text='{\"id\":6,\"tool_calls\":[{\"id\":\"6\",\"name\":\"functions.wiki_search\",\"arguments\":{\"query\":\"cultural impact of the internet\",\"retries\":2}}]}', type='output_text', logprobs=[], parsed=ToolCalls(id=6, tool_calls=[ToolCall(id='6', name='functions.wiki_search', arguments=ToolArguments(query='cultural impact of the internet', retries=2))]))], role='assistant', status='completed', type='message'),\n",
       " ParsedResponseOutputMessage[ToolCalls](id='msg_688a9e7a60d081a389f959cd5bae10dd0d566afc8ad6c133', content=[ParsedResponseOutputText[ToolCalls](annotations=[], text='{\"id\":7,\"tool_calls\":[{\"id\":\"7\",\"name\":\"functions.wiki_search\",\"arguments\":{\"query\":\"internet impact on society\",\"retries\":2}}]}', type='output_text', logprobs=[], parsed=ToolCalls(id=7, tool_calls=[ToolCall(id='7', name='functions.wiki_search', arguments=ToolArguments(query='internet impact on society', retries=2))]))], role='assistant', status='completed', type='message'),\n",
       " ParsedResponseOutputMessage[ToolCalls](id='msg_688a9e7b2aec81a3bb95cd25bec4aaa50d566afc8ad6c133', content=[ParsedResponseOutputText[ToolCalls](annotations=[], text='{\"id\":8,\"tool_calls\":[{\"id\":\"8\",\"name\":\"functions.wiki_search\",\"arguments\":{\"query\":\"internet impact on society\",\"retries\":2}}]}', type='output_text', logprobs=[], parsed=ToolCalls(id=8, tool_calls=[ToolCall(id='8', name='functions.wiki_search', arguments=ToolArguments(query='internet impact on society', retries=2))]))], role='assistant', status='completed', type='message'),\n",
       " ParsedResponseOutputMessage[ToolCalls](id='msg_688a9e7bf8e081a3b5c88aa7c18c9d070d566afc8ad6c133', content=[ParsedResponseOutputText[ToolCalls](annotations=[], text='{\"id\":9,\"tool_calls\":[{\"id\":\"9\",\"name\":\"functions.wiki_search\",\"arguments\":{\"query\":\"cultural impact of the internet\",\"retries\":2}}]}', type='output_text', logprobs=[], parsed=ToolCalls(id=9, tool_calls=[ToolCall(id='9', name='functions.wiki_search', arguments=ToolArguments(query='cultural impact of the internet', retries=2))]))], role='assistant', status='completed', type='message'),\n",
       " ParsedResponseOutputMessage[ToolCalls](id='msg_688a9e7cc32881a39b61910f86692b570d566afc8ad6c133', content=[ParsedResponseOutputText[ToolCalls](annotations=[], text='{\"id\":10,\"tool_calls\":[{\"id\":\"10\",\"name\":\"functions.wiki_search\",\"arguments\":{\"query\":\"cultural impact of the internet\",\"retries\":2}}]}', type='output_text', logprobs=[], parsed=ToolCalls(id=10, tool_calls=[ToolCall(id='10', name='functions.wiki_search', arguments=ToolArguments(query='cultural impact of the internet', retries=2))]))], role='assistant', status='completed', type='message'),\n",
       " ParsedResponseOutputMessage[ToolCalls](id='msg_688a9e7d922081a3b21102863570e1140d566afc8ad6c133', content=[ParsedResponseOutputText[ToolCalls](annotations=[], text='{\"id\":11,\"tool_calls\":[{\"id\":\"11\",\"name\":\"functions.wiki_search\",\"arguments\":{\"query\":\"cultural impact of the internet\",\"retries\":2}}]}', type='output_text', logprobs=[], parsed=ToolCalls(id=11, tool_calls=[ToolCall(id='11', name='functions.wiki_search', arguments=ToolArguments(query='cultural impact of the internet', retries=2))]))], role='assistant', status='completed', type='message'),\n",
       " ParsedResponseOutputMessage[ToolCalls](id='msg_688a9e7e6df881a39fe2945cc27d1bbb0d566afc8ad6c133', content=[ParsedResponseOutputText[ToolCalls](annotations=[], text='{\"id\":12,\"tool_calls\":[{\"id\":\"12\",\"name\":\"functions.wiki_search\",\"arguments\":{\"query\":\"cultural impact of the internet\",\"retries\":2}}]}', type='output_text', logprobs=[], parsed=ToolCalls(id=12, tool_calls=[ToolCall(id='12', name='functions.wiki_search', arguments=ToolArguments(query='cultural impact of the internet', retries=2))]))], role='assistant', status='completed', type='message'),\n",
       " ParsedResponseOutputMessage[ToolCalls](id='msg_688a9e7f303081a388b12de90ce520450d566afc8ad6c133', content=[ParsedResponseOutputText[ToolCalls](annotations=[], text='{\"id\":13,\"tool_calls\":[{\"id\":\"13\",\"name\":\"functions.wiki_search\",\"arguments\":{\"query\":\"cultural impact of the internet\",\"retries\":2}}]}', type='output_text', logprobs=[], parsed=ToolCalls(id=13, tool_calls=[ToolCall(id='13', name='functions.wiki_search', arguments=ToolArguments(query='cultural impact of the internet', retries=2))]))], role='assistant', status='completed', type='message'),\n",
       " ParsedResponseOutputMessage[ToolCalls](id='msg_688a9e80940081a38e8e43b2ddca5ab20d566afc8ad6c133', content=[ParsedResponseOutputText[ToolCalls](annotations=[], text='{\"id\":14,\"tool_calls\":[{\"id\":\"14\",\"name\":\"functions.wiki_search\",\"arguments\":{\"query\":\"cultural impact of the internet\",\"retries\":2}}]}', type='output_text', logprobs=[], parsed=ToolCalls(id=14, tool_calls=[ToolCall(id='14', name='functions.wiki_search', arguments=ToolArguments(query='cultural impact of the internet', retries=2))]))], role='assistant', status='completed', type='message'),\n",
       " ParsedResponseOutputMessage[ToolCalls](id='msg_688a9e81694c81a387b08a00c71bda250d566afc8ad6c133', content=[ParsedResponseOutputText[ToolCalls](annotations=[], text='{\"id\":15,\"tool_calls\":[{\"id\":\"15\",\"name\":\"functions.wiki_search\",\"arguments\":{\"query\":\"cultural impact of the internet\",\"retries\":2}}]}', type='output_text', logprobs=[], parsed=ToolCalls(id=15, tool_calls=[ToolCall(id='15', name='functions.wiki_search', arguments=ToolArguments(query='cultural impact of the internet', retries=2))]))], role='assistant', status='completed', type='message'),\n",
       " ParsedResponseOutputMessage[ToolCalls](id='msg_688a9e8217f481a389aad88e37ba3bc90d566afc8ad6c133', content=[ParsedResponseOutputText[ToolCalls](annotations=[], text='{\"id\":16,\"tool_calls\":[{\"id\":\"16\",\"name\":\"functions.wiki_search\",\"arguments\":{\"query\":\"cultural impact of the internet\",\"retries\":2}}]}', type='output_text', logprobs=[], parsed=ToolCalls(id=16, tool_calls=[ToolCall(id='16', name='functions.wiki_search', arguments=ToolArguments(query='cultural impact of the internet', retries=2))]))], role='assistant', status='completed', type='message'),\n",
       " ParsedResponseOutputMessage[ToolCalls](id='msg_688a9e82a79881a390ed5ce8ce9f75d90d566afc8ad6c133', content=[ParsedResponseOutputText[ToolCalls](annotations=[], text='{\"id\":17,\"tool_calls\":[{\"id\":\"17\",\"name\":\"functions.wiki_search\",\"arguments\":{\"query\":\"cultural impact of the internet\",\"retries\":2}}]}', type='output_text', logprobs=[], parsed=ToolCalls(id=17, tool_calls=[ToolCall(id='17', name='functions.wiki_search', arguments=ToolArguments(query='cultural impact of the internet', retries=2))]))], role='assistant', status='completed', type='message'),\n",
       " ParsedResponseOutputMessage[ToolCalls](id='msg_688a9e839b9c81a3a2660d32b9f220c00d566afc8ad6c133', content=[ParsedResponseOutputText[ToolCalls](annotations=[], text='{\"id\":18,\"tool_calls\":[{\"id\":\"18\",\"name\":\"functions.wiki_search\",\"arguments\":{\"query\":\"cultural impact of the internet\",\"retries\":2}}]}', type='output_text', logprobs=[], parsed=ToolCalls(id=18, tool_calls=[ToolCall(id='18', name='functions.wiki_search', arguments=ToolArguments(query='cultural impact of the internet', retries=2))]))], role='assistant', status='completed', type='message'),\n",
       " ParsedResponseOutputMessage[ToolCalls](id='msg_688a9e843f1481a38a09d08e3998ad710d566afc8ad6c133', content=[ParsedResponseOutputText[ToolCalls](annotations=[], text='{\"id\":19,\"tool_calls\":[{\"id\":\"19\",\"name\":\"functions.wiki_search\",\"arguments\":{\"query\":\"cultural impact of the internet\",\"retries\":2}}]}', type='output_text', logprobs=[], parsed=ToolCalls(id=19, tool_calls=[ToolCall(id='19', name='functions.wiki_search', arguments=ToolArguments(query='cultural impact of the internet', retries=2))]))], role='assistant', status='completed', type='message'),\n",
       " ParsedResponseOutputMessage[ToolCalls](id='msg_688a9e84d74481a3a54e407ad2afafd60d566afc8ad6c133', content=[ParsedResponseOutputText[ToolCalls](annotations=[], text='{\"id\":20,\"tool_calls\":[{\"id\":\"20\",\"name\":\"functions.wiki_search\",\"arguments\":{\"query\":\"cultural impact of the internet\",\"retries\":2}}]}', type='output_text', logprobs=[], parsed=ToolCalls(id=20, tool_calls=[ToolCall(id='20', name='functions.wiki_search', arguments=ToolArguments(query='cultural impact of the internet', retries=2))]))], role='assistant', status='completed', type='message')]"
      ]
     },
     "execution_count": 73,
     "metadata": {},
     "output_type": "execute_result"
    }
   ],
   "source": [
    "res.output"
   ]
  },
  {
   "cell_type": "code",
   "execution_count": 77,
   "id": "56f64de2-60a2-4564-a904-ce638544f273",
   "metadata": {},
   "outputs": [
    {
     "data": {
      "text/plain": [
       "'functions.wiki_search'"
      ]
     },
     "execution_count": 77,
     "metadata": {},
     "output_type": "execute_result"
    }
   ],
   "source": [
    "res.output_parsed.tool_calls[0].name"
   ]
  },
  {
   "cell_type": "code",
   "execution_count": 81,
   "id": "ddb62235-2624-47b5-a0aa-549a0a53a8c0",
   "metadata": {},
   "outputs": [
    {
     "data": {
      "text/plain": [
       "{'query': 'cultural impact of the internet', 'retries': 2}"
      ]
     },
     "execution_count": 81,
     "metadata": {},
     "output_type": "execute_result"
    }
   ],
   "source": [
    "res.output_parsed.tool_calls[0].arguments.model_dump()"
   ]
  },
  {
   "cell_type": "code",
   "execution_count": 78,
   "id": "d1d2411f-c00c-4ce0-9b95-3ed58a7f9049",
   "metadata": {},
   "outputs": [
    {
     "data": {
      "text/plain": [
       "'wiki_search'"
      ]
     },
     "execution_count": 78,
     "metadata": {},
     "output_type": "execute_result"
    }
   ],
   "source": [
    "res.output_parsed.tool_calls[0].name.split('.')[-1]"
   ]
  },
  {
   "cell_type": "code",
   "execution_count": 36,
   "id": "568522c5-89c8-47c9-be35-5b1ae6b288ae",
   "metadata": {},
   "outputs": [
    {
     "ename": "AttributeError",
     "evalue": "'ParsedResponseOutputMessage[ToolCalls]' object has no attribute 'output'",
     "output_type": "error",
     "traceback": [
      "\u001b[31m---------------------------------------------------------------------------\u001b[39m",
      "\u001b[31mAttributeError\u001b[39m                            Traceback (most recent call last)",
      "\u001b[36mCell\u001b[39m\u001b[36m \u001b[39m\u001b[32mIn[36]\u001b[39m\u001b[32m, line 1\u001b[39m\n\u001b[32m----> \u001b[39m\u001b[32m1\u001b[39m \u001b[33mf\u001b[39m\u001b[33m'\u001b[39m\u001b[33mRES[0] TYPE: \u001b[39m\u001b[38;5;132;01m{\u001b[39;00m\u001b[38;5;28mtype\u001b[39m(\u001b[43mres\u001b[49m\u001b[43m.\u001b[49m\u001b[43moutput\u001b[49m\u001b[43m[\u001b[49m\u001b[32;43m0\u001b[39;49m\u001b[43m]\u001b[49m\u001b[43m.\u001b[49m\u001b[43moutput\u001b[49m)\u001b[38;5;132;01m}\u001b[39;00m\u001b[33m'\u001b[39m\n",
      "\u001b[36mFile \u001b[39m\u001b[32m~/git-repos/ai_agent_template/.venv/lib/python3.13/site-packages/pydantic/main.py:991\u001b[39m, in \u001b[36mBaseModel.__getattr__\u001b[39m\u001b[34m(self, item)\u001b[39m\n\u001b[32m    988\u001b[39m     \u001b[38;5;28;01mreturn\u001b[39;00m \u001b[38;5;28msuper\u001b[39m().\u001b[34m__getattribute__\u001b[39m(item)  \u001b[38;5;66;03m# Raises AttributeError if appropriate\u001b[39;00m\n\u001b[32m    989\u001b[39m \u001b[38;5;28;01melse\u001b[39;00m:\n\u001b[32m    990\u001b[39m     \u001b[38;5;66;03m# this is the current error\u001b[39;00m\n\u001b[32m--> \u001b[39m\u001b[32m991\u001b[39m     \u001b[38;5;28;01mraise\u001b[39;00m \u001b[38;5;167;01mAttributeError\u001b[39;00m(\u001b[33mf\u001b[39m\u001b[33m'\u001b[39m\u001b[38;5;132;01m{\u001b[39;00m\u001b[38;5;28mtype\u001b[39m(\u001b[38;5;28mself\u001b[39m).\u001b[34m__name__\u001b[39m\u001b[38;5;132;01m!r}\u001b[39;00m\u001b[33m object has no attribute \u001b[39m\u001b[38;5;132;01m{\u001b[39;00mitem\u001b[38;5;132;01m!r}\u001b[39;00m\u001b[33m'\u001b[39m)\n",
      "\u001b[31mAttributeError\u001b[39m: 'ParsedResponseOutputMessage[ToolCalls]' object has no attribute 'output'"
     ]
    }
   ],
   "source": [
    "f'RES[0] TYPE: {type(res.output)}'"
   ]
  },
  {
   "cell_type": "code",
   "execution_count": null,
   "id": "c98fd243-04f0-4d6f-b5ec-94177fd6814e",
   "metadata": {},
   "outputs": [],
   "source": [
    "res[0]"
   ]
  },
  {
   "cell_type": "code",
   "execution_count": null,
   "id": "0cb8ed04-c00f-44f1-9737-a953673abc68",
   "metadata": {},
   "outputs": [],
   "source": [
    "dir(res[0])"
   ]
  },
  {
   "cell_type": "code",
   "execution_count": null,
   "id": "994f7dd9-cb8b-4c41-8676-2ac7af028e1e",
   "metadata": {},
   "outputs": [],
   "source": [
    "res[0].output[1].name"
   ]
  },
  {
   "cell_type": "code",
   "execution_count": null,
   "id": "2d8f30c5-170f-4a56-a123-f1cb306b9db7",
   "metadata": {},
   "outputs": [],
   "source": [
    "res[0].output[1].arguments"
   ]
  },
  {
   "cell_type": "code",
   "execution_count": null,
   "id": "6a2e660d-0abc-45da-b1a7-5699ffe2194d",
   "metadata": {},
   "outputs": [],
   "source": [
    "res[0].output[0].name"
   ]
  },
  {
   "cell_type": "code",
   "execution_count": null,
   "id": "5678a98e-46e2-4a32-a68f-089bf01e1315",
   "metadata": {},
   "outputs": [],
   "source": [
    "res[0].output[1].arguments"
   ]
  },
  {
   "cell_type": "code",
   "execution_count": null,
   "id": "08947b58-adbb-4953-977a-d8e27f284c14",
   "metadata": {},
   "outputs": [],
   "source": [
    "for i in range(len(res[0].output)):\n",
    "    tool_call = res[0].output[i]\n",
    "    print(tool_call.name)\n",
    "    print(tool_call.arguments)\n",
    "    print()"
   ]
  },
  {
   "cell_type": "code",
   "execution_count": null,
   "id": "7bb110e7-3a78-48ef-ae50-912856230075",
   "metadata": {},
   "outputs": [],
   "source": [
    "f'EXCUTE TASK RESULT: {res}'"
   ]
  },
  {
   "cell_type": "code",
   "execution_count": null,
   "id": "94f95e56-17eb-4d96-873b-144f4b8d6aa2",
   "metadata": {},
   "outputs": [],
   "source": [
    "# TODO: have the tool_calls be in each plan\n",
    "# TODO: have excutor take plan and execute the task"
   ]
  },
  {
   "cell_type": "code",
   "execution_count": null,
   "id": "1e47556e-fe69-4a54-9d24-5318dcef7466",
   "metadata": {},
   "outputs": [],
   "source": []
  }
 ],
 "metadata": {
  "kernelspec": {
   "display_name": "Python 3 (ipykernel)",
   "language": "python",
   "name": "python3"
  },
  "language_info": {
   "codemirror_mode": {
    "name": "ipython",
    "version": 3
   },
   "file_extension": ".py",
   "mimetype": "text/x-python",
   "name": "python",
   "nbconvert_exporter": "python",
   "pygments_lexer": "ipython3",
   "version": "3.13.1"
  }
 },
 "nbformat": 4,
 "nbformat_minor": 5
}
