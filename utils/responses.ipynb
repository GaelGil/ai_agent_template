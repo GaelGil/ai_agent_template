{
 "cells": [
  {
   "cell_type": "code",
   "execution_count": 1,
   "id": "17d0091a-6269-4f4d-ac38-dab7d57cf20c",
   "metadata": {},
   "outputs": [],
   "source": [
    "tools = [{'type': 'function', 'name': 'get_weather', 'description': 'Get current temperature for provided coordinates in celsius', 'parameters': {'type': 'object', 'properties': {'latitude': {'title': 'latitude', 'type': 'string'}, 'longitude': {'title': 'longitude', 'type': 'string'}}, 'required': ['latitude', 'longitude']}}, {'type': 'function', 'name': 'wiki_search', 'description': 'Get current temperature for provided coordinates in celsius', 'parameters': {'type': 'object', 'properties': {'query': {'title': 'Query', 'type': 'string'}, 'sentences': {'default': 2, 'title': 'Sentences', 'type': 'integer'}}, 'required': ['query']}}, {'type': 'function', 'name': 'save_txt', 'description': 'Save text to a .txt file', 'parameters': {'type': 'object', 'properties': {'text': {'title': 'Text', 'type': 'string'}, 'filename': {'default': 'output.txt', 'title': 'Filename', 'type': 'string'}}, 'required': ['text']}}, {'type': 'function', 'name': 'arxiv_search', 'description': 'Search arxiv', 'parameters': {'type': 'object', 'properties': {'query': {'title': 'Query', 'type': 'string'}}, 'required': ['query']}}]"
   ]
  },
  {
   "cell_type": "code",
   "execution_count": 2,
   "id": "a2391d9f-dac4-4085-a518-a3d9dedf2e6c",
   "metadata": {},
   "outputs": [
    {
     "data": {
      "text/plain": [
       "[{'type': 'function',\n",
       "  'name': 'get_weather',\n",
       "  'description': 'Get current temperature for provided coordinates in celsius',\n",
       "  'parameters': {'type': 'object',\n",
       "   'properties': {'latitude': {'title': 'latitude', 'type': 'string'},\n",
       "    'longitude': {'title': 'longitude', 'type': 'string'}},\n",
       "   'required': ['latitude', 'longitude']}},\n",
       " {'type': 'function',\n",
       "  'name': 'wiki_search',\n",
       "  'description': 'Get current temperature for provided coordinates in celsius',\n",
       "  'parameters': {'type': 'object',\n",
       "   'properties': {'query': {'title': 'Query', 'type': 'string'},\n",
       "    'sentences': {'default': 2, 'title': 'Sentences', 'type': 'integer'}},\n",
       "   'required': ['query']}},\n",
       " {'type': 'function',\n",
       "  'name': 'save_txt',\n",
       "  'description': 'Save text to a .txt file',\n",
       "  'parameters': {'type': 'object',\n",
       "   'properties': {'text': {'title': 'Text', 'type': 'string'},\n",
       "    'filename': {'default': 'output.txt',\n",
       "     'title': 'Filename',\n",
       "     'type': 'string'}},\n",
       "   'required': ['text']}},\n",
       " {'type': 'function',\n",
       "  'name': 'arxiv_search',\n",
       "  'description': 'Search arxiv',\n",
       "  'parameters': {'type': 'object',\n",
       "   'properties': {'query': {'title': 'Query', 'type': 'string'}},\n",
       "   'required': ['query']}}]"
      ]
     },
     "execution_count": 2,
     "metadata": {},
     "output_type": "execute_result"
    }
   ],
   "source": [
    "tools"
   ]
  },
  {
   "cell_type": "code",
   "execution_count": 4,
   "id": "3d97234f-c440-4398-9f69-19f2eefd3150",
   "metadata": {},
   "outputs": [
    {
     "data": {
      "text/plain": [
       "True"
      ]
     },
     "execution_count": 4,
     "metadata": {},
     "output_type": "execute_result"
    }
   ],
   "source": [
    "from openai import OpenAI\n",
    "from pydantic import BaseModel, Field\n",
    "from typing import Literal, Optional, List\n",
    "import logging\n",
    "import asyncio\n",
    "import os\n",
    "from dotenv import load_dotenv\n",
    "from pathlib import Path\n",
    "load_dotenv(Path(\"../.env\"))"
   ]
  },
  {
   "cell_type": "code",
   "execution_count": 5,
   "id": "92cf3299-b98a-493a-acb3-d32c3b822e9f",
   "metadata": {},
   "outputs": [],
   "source": [
    "class OpenAIClient:\n",
    "    def __init__(self, api_key: str) -> None:\n",
    "        \"\"\"\n",
    "        Args:\n",
    "            model_name: The name of the openai model we are using\n",
    "            api_key: The api key for our openai model\n",
    "        Returns:\n",
    "        \"\"\"\n",
    "        self.client = OpenAI(api_key=api_key)\n",
    "\n",
    "    def get_client(self) -> OpenAI:\n",
    "        \"\"\"\n",
    "        Args:\n",
    "            None\n",
    "\n",
    "        Returns:\n",
    "            The openai client\n",
    "        \"\"\"\n",
    "        return self.client"
   ]
  },
  {
   "cell_type": "code",
   "execution_count": 6,
   "id": "a63711c6-df97-4d2a-9764-cbf31c1c55bd",
   "metadata": {},
   "outputs": [],
   "source": [
    "llm = OpenAIClient(api_key=os.getenv(\"OPENAI_API_KEY\")).get_client()"
   ]
  },
  {
   "cell_type": "code",
   "execution_count": 7,
   "id": "fc9039a2-1b3f-4fee-964a-78314eac9554",
   "metadata": {},
   "outputs": [],
   "source": [
    "# Define prompt for planner agent\n",
    "PLANNER_AGENT_PROMPT = \"\"\"\n",
    "You are an expert essay writer planner.\n",
    "You take in essay writing request on a given topic, and create comprehensive plans, breaking down the main task of writing an essay into smaller actionable tasks.\n",
    "\n",
    "CORE PRINCIPLE: Be direct and action-oriented. Minimize follow-up questions.\n",
    "\n",
    "DEFAULT ASSUMPTIONS FOR REQUESTS:\n",
    "- The request is about writing an essay on a given topic.\n",
    "- The request might be vague or unclear, one word, or unclear intent\n",
    "- The request might be very specific or clear\n",
    "\n",
    "IMMEDIATE PLANNING APPROACH:\n",
    "**WORKFLOW:**\n",
    "1. Always start by creating a plan for writing an essay with detailed tasks.\n",
    "2. Plan should consist of multiple tasks, This is an example but is not limited to [write introduction, research topic, write folow-up, write followup, write conclusion, review, edit, proofread, return essay]\n",
    "3. Plan should be specific and actionable\n",
    "4. For each task in the plan, you MUST assign a tool to perform the task. Fail to do so will result in an task FAIL.\n",
    "7. YOU must determine how many body paragraphs are sufficient to address the topic.\n",
    "8. Tools will be given to you. YOU ARE NOT TO CALL THEM. You will ONLY suggest their ussage to appropriate tasks.\n",
    "\n",
    "MINIMAL QUESTIONS STRATEGY:\n",
    "- For vauge requests such as single words: generate an interesting topic ie: star wars -> star wars impact on society, then plan and create tasks\n",
    "- For detailed requests: Create multiple tasks \n",
    "\n",
    "You will be given a output format that you must adhere to.\n",
    "\n",
    "Generate plans immediately without asking follow-up questions unless absolutely necessary.\n",
    "\"\"\"\n",
    "\n",
    "\n",
    "# Define the prompt for the Orchestrator Agent\n",
    "ORCHESTRATOR_AGENT_PROMPT = \"\"\"\n",
    "You are an Orchestrator Agent specialized in coordinating complex essay writing tasks.\n",
    "Your task is to recive a plan from the Planner Agent and coordinate the execution of tasks.\n",
    "Each task will contain a description and tool suggestion to complete the task (ie possible tools to call).\n",
    "YOU have FINAL DECISION MAKING POWER. IF YOU decide another tool is better, you MUST call it. IF not use the\n",
    "suggested tool. Tools will be given to you and you MUST use them to perform each task with the given description.\n",
    "FAILURE TO CALL A TOOL WILL RESULT IN A TASK FAIL\n",
    "\n",
    "\n",
    "When a user makes a complex request, analyze it and determine which specialized agents should be involved:\n",
    "- wiki_search Tool: For finding general information on a topic.\n",
    "- web_search Tool: For finding real information on a topic.\n",
    "- arxiv_search Tool: For findimng scientific information on a topic.\n",
    "\n",
    "Create a workflow that efficiently coordinates these tools to provide comprehensive results.\n",
    "\n",
    "**WORKFLOW:**\n",
    "1. Start by analyzing the task description and determine which tools should be called\n",
    "2. Call the appropriate tools to complete the task\n",
    "3. If task fails, attempt to find alternative tools to call\n",
    "4. If task succeeds, proceed to the next task and give the results of the previous task as input to the next task\n",
    "5. Repeat steps 2-4 until all tasks are completed\n",
    "\n",
    "\n",
    "Always provide clear status updates and coordinate the results from different tool calls into a cohesive response.\n",
    "\n",
    "You will be given a output format that you must adhere to.\n",
    "\n",
    "\"\"\"\n",
    "\n",
    "# System prompt for the agent\n",
    "SYSTEM_PROMPT = \"\"\"You are an order processing assistant. Your task is to analyze emails and extract \n",
    "order information to create purchase orders. Be precise with quantities, product names, and other details.\n",
    "When in doubt, ask for clarification.\"\"\""
   ]
  },
  {
   "cell_type": "code",
   "execution_count": 8,
   "id": "4a96fc43-5411-4035-a817-4ed1afa1bd36",
   "metadata": {},
   "outputs": [],
   "source": [
    "class ToolArguments(BaseModel):\n",
    "    query: str = Field(description=\"The query or input for the tool.\")\n",
    "    retries: Optional[int] = Field(default=0, description=\"Number of retries allowed.\")\n",
    "\n",
    "\n",
    "class ToolCall(BaseModel):\n",
    "    \"\"\"Represents a tool call request from the LLM.\"\"\"\n",
    "\n",
    "    id: str = Field(description=\"The ID of the tool call.\")\n",
    "    name: str = Field(description=\"The name of the tool to call.\")\n",
    "    arguments: ToolArguments = Field(description=\"The arguments to call the tool with.\")\n",
    "\n",
    "\n",
    "class ToolCalls(BaseModel):\n",
    "    id: int = Field(description=\"An ID for the tool calls\")\n",
    "    tool_calls: List[ToolCall] = Field(\n",
    "        description=\"A list of tools to be executed sequentially.\"\n",
    "    )\n",
    "\n",
    "\n",
    "\n",
    "class PlannerTask(BaseModel):\n",
    "    \"\"\"Represents a single task generated by the Planner.\"\"\"\n",
    "\n",
    "    id: int = Field(description=\"Sequential ID for the task.\")\n",
    "    description: str = Field(\n",
    "        description=\"Clear description of the task to be executed.\"\n",
    "    )\n",
    "    tool_suggestions: str = Field(\n",
    "        description=\"A list of tool suggestions to be executed.\"\n",
    "    )\n",
    "    status: Optional[\n",
    "        Literal[\n",
    "            \"input_required\",\n",
    "            \"completed\",\n",
    "            \"error\",\n",
    "            \"pending\",\n",
    "            \"incomplete\",\n",
    "            \"todo\",\n",
    "            \"not_started\",\n",
    "        ]\n",
    "    ] = Field(default=\"input_required\", description=\"Status of the task\")\n",
    "\n",
    "\n",
    "class Plan(BaseModel):\n",
    "    \"\"\"Output schema for the Planner Agent.\"\"\"\n",
    "\n",
    "    original_query: str = Field(description=\"The original user query for context.\")\n",
    "    description: str = Field(description=\"Clear description of the overall plan.\")\n",
    "    tasks: List[PlannerTask] = Field(\n",
    "        description=\"A list of tasks to be executed sequentially.\"\n",
    "    )\n",
    "\n",
    "\n",
    "class ToolResult(BaseModel):\n",
    "    \"\"\"Represents the result of a tool execution.\"\"\"\n",
    "\n",
    "    tool_call_id: str = Field(description=\"The ID of the tool call this result is for.\")\n",
    "    result: str = Field(description=\"The result of the tool execution.\")\n",
    "    is_error: bool = Field(\n",
    "        default=False, description=\"Whether the tool execution resulted in an error.\"\n",
    "    )\n",
    "\n",
    "\n",
    "class ResponseFormat(BaseModel):\n",
    "    \"\"\"Respond to the user in this format.\"\"\"\n",
    "\n",
    "    status: Literal[\"input_required\", \"completed\", \"error\"] = \"input_required\"\n",
    "    question: str = Field(\n",
    "        description=\"Input needed from the user to generate the code search plan\"\n",
    "    )\n",
    "    content: Plan = Field(\n",
    "        description=\"List of tasks when the code search plan is generated\"\n",
    "    )\n"
   ]
  },
  {
   "cell_type": "code",
   "execution_count": 9,
   "id": "55563082-c4e8-469b-b47b-615852fe396c",
   "metadata": {},
   "outputs": [],
   "source": [
    "logger = logging.getLogger(__name__)\n",
    "\n",
    "\n",
    "class PlannerAgent:\n",
    "    def __init__(\n",
    "        self,\n",
    "        dev_prompt,\n",
    "        llm,\n",
    "        messages,\n",
    "        tools,\n",
    "        model_name: str = \"gpt-4.1-mini\",\n",
    "    ):\n",
    "        self.model_name = model_name\n",
    "        self.dev_prompt = dev_prompt\n",
    "        self.llm = llm\n",
    "        self.messages = messages\n",
    "        self.tools = tools\n",
    "        if self.dev_prompt:\n",
    "            self.messages.append({\"role\": \"developer\", \"content\": self.dev_prompt})\n",
    "        self.llm = OpenAI()  # Instantiate internally\n",
    "\n",
    "    def add_messages(self, query: str):\n",
    "        self.messages.append({\"role\": \"user\", \"content\": query})\n",
    "\n",
    "    def plan(self, query: str):\n",
    "        \"\"\"Create a detailed plan to complete the request of the user.\n",
    "\n",
    "        Args:\n",
    "            query (str): The request of the user.\n",
    "\n",
    "        Returns:\n",
    "            Plan: The plan to complete the request of the user.\n",
    "        \"\"\"\n",
    "        self.add_messages(query=query)\n",
    "        response = self.llm.responses.parse(\n",
    "            model=self.model_name,\n",
    "            input=self.messages,\n",
    "            tools=self.tools,\n",
    "            text_format=Plan,\n",
    "        )\n",
    "        return response"
   ]
  },
  {
   "cell_type": "code",
   "execution_count": 10,
   "id": "de900605-da34-47b8-9e56-3c009e18f651",
   "metadata": {},
   "outputs": [],
   "source": [
    "class OrchestratorAgent:\n",
    "    \"\"\"OrchestratorAgent class.\n",
    "\n",
    "    Methods:\n",
    "\n",
    "\n",
    "    Attributes:\n",
    "\n",
    "\n",
    "    \"\"\"\n",
    "\n",
    "    def __init__(\n",
    "        self,\n",
    "        dev_prompt: str,\n",
    "        llm: OpenAI,\n",
    "        messages: list[dict],\n",
    "        tools: list[dict],\n",
    "        model_name: str = \"gpt-4.1-mini\",\n",
    "    ):\n",
    "        \"\"\"\n",
    "        Initialize the OrchestratorAgent.\n",
    "\n",
    "        Args:\n",
    "            dev_prompt (str): The developer prompt.\n",
    "            mcp_client (MCPClient): The MCP client.\n",
    "            llm (OpenAI): The LLM client.\n",
    "            messages (list[dict]): The input messages.\n",
    "            tools (list[dict]): The tools.\n",
    "            model_name (str): The name of the model.\n",
    "        \"\"\"\n",
    "        self.model_name = model_name\n",
    "        self.dev_prompt = dev_prompt\n",
    "        self.llm = llm\n",
    "        self.messages = messages\n",
    "        self.tools = tools\n",
    "        if self.dev_prompt:\n",
    "            self.messages.append({\"role\": \"developer\", \"content\": self.dev_prompt})\n",
    "\n",
    "    async def call_tool(self, tool_calls: list[dict]) -> list[dict]:\n",
    "        \"\"\"Receives a list of tool calls and calls the tools\n",
    "\n",
    "        Args:\n",
    "            tool_calls: Either a list of tool call dicts or a string error message\n",
    "\n",
    "        Returns:\n",
    "            list[dict]: The results of the tool calls or error information\n",
    "        \"\"\"\n",
    "        # If we received an error message instead of tool calls\n",
    "        # if isinstance(tool_calls, str):\n",
    "        #     return [{\"error\": True, \"message\": tool_calls}]\n",
    "\n",
    "        # # Ensure tool_calls is a list\n",
    "        # if not isinstance(tool_calls, list):\n",
    "        #     return [\n",
    "        #         {\n",
    "        #             \"error\": True,\n",
    "        #             \"message\": f\"Expected list of tool calls, got {type(tool_calls).__name__}\",\n",
    "        #         }\n",
    "        #     ]\n",
    "\n",
    "        # results = []  # Tool call results\n",
    "        # for tool in tool_calls:  # For each tool\n",
    "        #     try:  # Try to call the tool\n",
    "        #         if not isinstance(tool, dict):  # If tool is not a dict return error\n",
    "        #             results.append(\n",
    "        #                 {\n",
    "        #                     \"error\": True,\n",
    "        #                     \"message\": f\"Expected dict, got {type(tool).__name__}\",\n",
    "        #                 }\n",
    "        #             )\n",
    "        #             continue\n",
    "        #         # Extract tool name and arguments\n",
    "        #         name = tool.get(\"name\")\n",
    "        #         args = tool.get(\"arguments\", {})\n",
    "\n",
    "        #         # If tool name is missing return error\n",
    "        #         if not name:\n",
    "        #             results.append(\n",
    "        #                 {\"error\": True, \"message\": \"Tool call missing 'name' field\"}\n",
    "        #             )\n",
    "        #             continue\n",
    "\n",
    "        #         # Call the tool through MCP client\n",
    "        #         result = await self.mcp_client.call_tool(name, args)\n",
    "        #         # append tool call reults. Includes name, arguments, and result\n",
    "        #         results.append(\n",
    "        #             {\"name\": name, \"arguments\": args, \"result\": result, \"error\": False}\n",
    "        #         )\n",
    "\n",
    "        #     # Handle exceptions\n",
    "        #     except Exception as e:\n",
    "        #         results.append(\n",
    "        #             {\n",
    "        #                 \"error\": True,\n",
    "        #                 \"name\": name if \"name\" in locals() else \"unknown\",\n",
    "        #                 \"message\": f\"Error calling tool: {str(e)}\",\n",
    "        #             }\n",
    "        #         )\n",
    "        results = []\n",
    "        # return results\n",
    "        return results\n",
    "\n",
    "    def call_tools(self, tool_calls: list[ToolCall]) -> list[dict]:\n",
    "        \"\"\"Receives a list of tool calls and calls the tools\n",
    "\n",
    "        Args:\n",
    "            tool_calls: Either a list of tool call dicts or a string error message\n",
    "\n",
    "        Returns:\n",
    "            list[dict]: The results of the tool calls or error information\n",
    "        \"\"\"\n",
    "        # If we received an error message instead of tool calls\n",
    "        if isinstance(tool_calls, str):\n",
    "            return [{\"error\": True, \"message\": tool_calls}]\n",
    "\n",
    "        # Ensure tool_calls is a list\n",
    "        if not isinstance(tool_calls, list):\n",
    "            return [\n",
    "                {\n",
    "                    \"error\": True,\n",
    "                    \"message\": f\"Expected list of tool calls, got {type(tool_calls).__name__}\",\n",
    "                }\n",
    "            ]\n",
    "\n",
    "        results: list[dict] = []\n",
    "        for i in range(len(tool_calls)):\n",
    "            tool_call = tool_calls[i]\n",
    "            result = 'hello'\n",
    "            result.append(\n",
    "                {\n",
    "                    \"name\": tool_call.name,\n",
    "                    \"arguments\": tool_call.arguments,\n",
    "                    \"result\": result,\n",
    "                }\n",
    "            )\n",
    "        # Call the tools\n",
    "        return results\n",
    "\n",
    "    async def execute_task(\n",
    "        self, task: PlannerTask, previous_task_results: list\n",
    "    ) -> list[dict]:\n",
    "        \"\"\"Execute the given task generated by the planner agent\n",
    "\n",
    "        Args:\n",
    "            task: The task to execute.\n",
    "\n",
    "        Returns:\n",
    "            A list of results, each containing:\n",
    "                - name: The name of the tool called.\n",
    "                - arguments: The arguments passed to the tool.\n",
    "                - result: The result of the tool call.\n",
    "                - error: A boolean indicating whether an error occurred.\n",
    "        \"\"\"\n",
    "        task_id = task.id\n",
    "        task_description = task.description\n",
    "        tool_suggestions = task.tool_suggestions\n",
    "        task_status = task.status\n",
    "\n",
    "        self.print_task(task, previous_task_results)\n",
    "\n",
    "        messages = [\n",
    "            {\"role\": \"assistant\", \"content\": str(task_id)},\n",
    "            {\"role\": \"assistant\", \"content\": f\"Tool suggestions: {tool_suggestions}\"},\n",
    "            {\"role\": \"assistant\", \"content\": f\"Task status: {task_status}\"},\n",
    "            {\n",
    "                \"role\": \"assistant\",\n",
    "                \"content\": f\"Previous Task Results: {previous_task_results}\",\n",
    "            },\n",
    "            {\n",
    "                \"role\": \"user\",\n",
    "                \"content\": f\"You must execute the following task: {task_description}\",\n",
    "            },\n",
    "        ]\n",
    "\n",
    "        response = self.llm.responses.parse(\n",
    "            model=self.model_name,\n",
    "            input=messages,\n",
    "            tools=self.tools,\n",
    "            tool_choice=\"auto\",\n",
    "            text_format=ToolCalls,\n",
    "        )\n",
    "\n",
    "        results = response\n",
    "        return results\n",
    "\n",
    "    def print_task(self, task: PlannerTask, previous_task_results: list) -> None:\n",
    "        \"\"\"Print the given task generated by the planner agent\n",
    "\n",
    "        Args:\n",
    "            task: The task to print.\n",
    "            previous_task_results: The results of the previous task.\n",
    "\n",
    "        Returns:\n",
    "            None\n",
    "        \"\"\"\n",
    "        print(f\"\"\"\n",
    "              Executing task: \\n\n",
    "              Task ID: {task.id} \\n\n",
    "              Task description: {task.description} \\n\n",
    "              Tool suggestions: {task.tool_suggestions} \\n\n",
    "              Task status: {task.status} \\n\n",
    "              Previous Task Results: {previous_task_results}\n",
    "        \"\"\")\n",
    "\n",
    "    def print_plan(self, plan: Plan) -> None:\n",
    "        \"\"\"Print the given plan generated by the planner agent\n",
    "\n",
    "        Args:\n",
    "            plan: The plan to print.\n",
    "\n",
    "        Returns:\n",
    "            None\n",
    "        \"\"\"\n",
    "        print(f\"\"\"\n",
    "              Plan to execute is: \\n\n",
    "              Plan ID: {plan.original_query}\n",
    "              Plan Description: {plan.description}\n",
    "         \"\"\")\n",
    "\n",
    "    async def execute_plan(self, plan: Plan) -> list:\n",
    "        \"\"\"Execute the given plan generated by the planner agent\n",
    "\n",
    "        Args:\n",
    "            plan: The plan to execute.\n",
    "\n",
    "        Returns:\n",
    "            A list of results\n",
    "        \"\"\"\n",
    "        self.print_plan(plan)\n",
    "        results = []\n",
    "        prev_task_results = \"\"\n",
    "        for i in range(len(plan.tasks)):\n",
    "            task: PlannerTask = plan.tasks[i]\n",
    "            res = await self.execute_task(task, prev_task_results)\n",
    "            results.append(res)\n",
    "            prev_task_results = res\n",
    "            break\n",
    "\n",
    "        return results"
   ]
  },
  {
   "cell_type": "code",
   "execution_count": 11,
   "id": "fc47675d-e315-44b2-8d86-d35f66906a48",
   "metadata": {},
   "outputs": [],
   "source": [
    "orchestrator = OrchestratorAgent(\n",
    "    dev_prompt=ORCHESTRATOR_AGENT_PROMPT,\n",
    "    llm=llm,\n",
    "    messages=[],\n",
    "    tools=tools,\n",
    "    model_name=\"gpt-4.1-mini\",\n",
    "            )\n",
    "logger.info(\"Successfully initialized OrchestratorAgent\")"
   ]
  },
  {
   "cell_type": "code",
   "execution_count": 12,
   "id": "84da1599-303f-4d9d-86f5-7f2b7285f696",
   "metadata": {},
   "outputs": [],
   "source": [
    "            planner = PlannerAgent(\n",
    "                dev_prompt=PLANNER_AGENT_PROMPT,\n",
    "                llm=llm,\n",
    "                messages=[],\n",
    "                tools=tools,\n",
    "                model_name=\"gpt-4.1-mini\",\n",
    "            )\n",
    "            logger.info(\"Successfully initialized PlannerAgent\")"
   ]
  },
  {
   "cell_type": "code",
   "execution_count": 13,
   "id": "e9ae076a-6d61-4491-ade2-2db067872d70",
   "metadata": {},
   "outputs": [],
   "source": [
    "content = \"write an essay on the culture impact of the internet\""
   ]
  },
  {
   "cell_type": "code",
   "execution_count": 14,
   "id": "7b032bb2-ea6a-4111-9540-bf48d802fede",
   "metadata": {},
   "outputs": [],
   "source": [
    "plan = planner.plan(content)"
   ]
  },
  {
   "cell_type": "code",
   "execution_count": 15,
   "id": "43420039-c423-4748-b2b5-75e58a0baffc",
   "metadata": {},
   "outputs": [
    {
     "data": {
      "text/plain": [
       "\"PLAN TYPE: <class 'openai.types.responses.parsed_response.ParsedResponse[Plan]'>\""
      ]
     },
     "execution_count": 15,
     "metadata": {},
     "output_type": "execute_result"
    }
   ],
   "source": [
    "f'PLAN TYPE: {type(plan)}'"
   ]
  },
  {
   "cell_type": "code",
   "execution_count": 16,
   "id": "d7f82e52-f593-4411-8d27-eca9ca776f4d",
   "metadata": {},
   "outputs": [
    {
     "data": {
      "text/plain": [
       "ParsedResponse[Plan](id='resp_688a78bf2e248192999a76805538b4ce063071ae19587bcf', created_at=1753905343.0, error=None, incomplete_details=None, instructions=None, metadata={}, model='gpt-4.1-mini-2025-04-14', object='response', output=[ParsedResponseOutputMessage[Plan](id='msg_688a78c101e88192a5facc90803a6484063071ae19587bcf', content=[ParsedResponseOutputText[Plan](annotations=[], text='{\"original_query\":\"write an essay on the culture impact of the internet\",\"description\":\"Plan for writing an essay on the cultural impact of the internet, breaking down into research, drafting, and revising stages.\",\"tasks\":[{\"id\":1,\"description\":\"Research the cultural impact of the internet including positive and negative effects, changes in communication, social behavior, entertainment, and global connectivity.\",\"tool_suggestions\":\"Use wiki_search and arxiv_search to gather credible background information and current perspectives.\" ,\"status\":\"todo\"},{\"id\":2,\"description\":\"Write an engaging introduction that outlines the importance and scope of the internet\\'s cultural impact.\",\"tool_suggestions\":\"Use the text generation tool or drafting tool.\" ,\"status\":\"todo\"},{\"id\":3,\"description\":\"Draft the first body paragraph focusing on how the internet has changed communication and social interactions culturally.\",\"tool_suggestions\":\"Use the text generation tool or drafting tool.\" ,\"status\":\"todo\"},{\"id\":4,\"description\":\"Draft the second body paragraph addressing the impact of the internet on entertainment, media consumption, and cultural exchange.\",\"tool_suggestions\":\"Use the text generation tool or drafting tool.\" ,\"status\":\"todo\"},{\"id\":5,\"description\":\"Draft the third body paragraph discussing the internet\\'s role in shaping global perspectives, activism, and cultural awareness.\",\"tool_suggestions\":\"Use the text generation tool or drafting tool.\" ,\"status\":\"todo\"},{\"id\":6,\"description\":\"Write a conclusion summarizing the key points and reflecting on the future cultural implications of the internet.\",\"tool_suggestions\":\"Use the text generation tool or drafting tool.\" ,\"status\":\"todo\"},{\"id\":7,\"description\":\"Review and edit the entire essay for coherence, flow, and relevance to the essay topic.\",\"tool_suggestions\":\"Use editing and proofreading tools.\" ,\"status\":\"todo\"},{\"id\":8,\"description\":\"Proofread the final draft for grammar, punctuation, and spelling errors.\",\"tool_suggestions\":\"Use proofreading tools.\" ,\"status\":\"todo\"},{\"id\":9,\"description\":\"Prepare and return the final essay document to the user.\",\"tool_suggestions\":\"Use the save_txt tool to format and save the final essay.\" ,\"status\":\"todo\"}]}', type='output_text', logprobs=[], parsed=Plan(original_query='write an essay on the culture impact of the internet', description='Plan for writing an essay on the cultural impact of the internet, breaking down into research, drafting, and revising stages.', tasks=[PlannerTask(id=1, description='Research the cultural impact of the internet including positive and negative effects, changes in communication, social behavior, entertainment, and global connectivity.', tool_suggestions='Use wiki_search and arxiv_search to gather credible background information and current perspectives.', status='todo'), PlannerTask(id=2, description=\"Write an engaging introduction that outlines the importance and scope of the internet's cultural impact.\", tool_suggestions='Use the text generation tool or drafting tool.', status='todo'), PlannerTask(id=3, description='Draft the first body paragraph focusing on how the internet has changed communication and social interactions culturally.', tool_suggestions='Use the text generation tool or drafting tool.', status='todo'), PlannerTask(id=4, description='Draft the second body paragraph addressing the impact of the internet on entertainment, media consumption, and cultural exchange.', tool_suggestions='Use the text generation tool or drafting tool.', status='todo'), PlannerTask(id=5, description=\"Draft the third body paragraph discussing the internet's role in shaping global perspectives, activism, and cultural awareness.\", tool_suggestions='Use the text generation tool or drafting tool.', status='todo'), PlannerTask(id=6, description='Write a conclusion summarizing the key points and reflecting on the future cultural implications of the internet.', tool_suggestions='Use the text generation tool or drafting tool.', status='todo'), PlannerTask(id=7, description='Review and edit the entire essay for coherence, flow, and relevance to the essay topic.', tool_suggestions='Use editing and proofreading tools.', status='todo'), PlannerTask(id=8, description='Proofread the final draft for grammar, punctuation, and spelling errors.', tool_suggestions='Use proofreading tools.', status='todo'), PlannerTask(id=9, description='Prepare and return the final essay document to the user.', tool_suggestions='Use the save_txt tool to format and save the final essay.', status='todo')]))], role='assistant', status='completed', type='message')], parallel_tool_calls=True, temperature=1.0, tool_choice='auto', tools=[FunctionTool(name='get_weather', parameters={'type': 'object', 'properties': {'latitude': {'title': 'latitude', 'type': 'string'}, 'longitude': {'title': 'longitude', 'type': 'string'}}, 'required': ['latitude', 'longitude']}, strict=True, type='function', description='Get current temperature for provided coordinates in celsius'), FunctionTool(name='wiki_search', parameters={'type': 'object', 'properties': {'query': {'title': 'Query', 'type': 'string'}, 'sentences': {'default': 2, 'title': 'Sentences', 'type': 'integer'}}, 'required': ['query']}, strict=True, type='function', description='Get current temperature for provided coordinates in celsius'), FunctionTool(name='save_txt', parameters={'type': 'object', 'properties': {'text': {'title': 'Text', 'type': 'string'}, 'filename': {'default': 'output.txt', 'title': 'Filename', 'type': 'string'}}, 'required': ['text']}, strict=True, type='function', description='Save text to a .txt file'), FunctionTool(name='arxiv_search', parameters={'type': 'object', 'properties': {'query': {'title': 'Query', 'type': 'string'}}, 'required': ['query']}, strict=True, type='function', description='Search arxiv')], top_p=1.0, background=False, max_output_tokens=None, max_tool_calls=None, previous_response_id=None, prompt=None, reasoning=Reasoning(effort=None, generate_summary=None, summary=None), service_tier='default', status='completed', text=ResponseTextConfig(format=ResponseFormatTextJSONSchemaConfig(name='Plan', schema_={'$defs': {'PlannerTask': {'description': 'Represents a single task generated by the Planner.', 'properties': {'id': {'description': 'Sequential ID for the task.', 'title': 'Id', 'type': 'integer'}, 'description': {'description': 'Clear description of the task to be executed.', 'title': 'Description', 'type': 'string'}, 'tool_suggestions': {'description': 'A list of tool suggestions to be executed.', 'title': 'Tool Suggestions', 'type': 'string'}, 'status': {'anyOf': [{'enum': ['input_required', 'completed', 'error', 'pending', 'incomplete', 'todo', 'not_started'], 'type': 'string'}, {'type': 'null'}], 'default': 'input_required', 'description': 'Status of the task', 'title': 'Status'}}, 'required': ['id', 'description', 'tool_suggestions', 'status'], 'title': 'PlannerTask', 'type': 'object', 'additionalProperties': False}}, 'description': 'Output schema for the Planner Agent.', 'properties': {'original_query': {'description': 'The original user query for context.', 'title': 'Original Query', 'type': 'string'}, 'description': {'description': 'Clear description of the overall plan.', 'title': 'Description', 'type': 'string'}, 'tasks': {'description': 'A list of tasks to be executed sequentially.', 'items': {'$ref': '#/$defs/PlannerTask'}, 'title': 'Tasks', 'type': 'array'}}, 'required': ['original_query', 'description', 'tasks'], 'title': 'Plan', 'type': 'object', 'additionalProperties': False}, type='json_schema', description=None, strict=True)), top_logprobs=0, truncation='disabled', usage=ResponseUsage(input_tokens=747, input_tokens_details=InputTokensDetails(cached_tokens=0), output_tokens=435, output_tokens_details=OutputTokensDetails(reasoning_tokens=0), total_tokens=1182), user=None, prompt_cache_key=None, safety_identifier=None, store=True)"
      ]
     },
     "execution_count": 16,
     "metadata": {},
     "output_type": "execute_result"
    }
   ],
   "source": [
    "plan"
   ]
  },
  {
   "cell_type": "code",
   "execution_count": 17,
   "id": "30f0e0a7-05b5-4a9a-8a25-5f2ac1aa6ab2",
   "metadata": {},
   "outputs": [],
   "source": [
    "plan_parsed: Plan = plan.output_parsed"
   ]
  },
  {
   "cell_type": "code",
   "execution_count": 18,
   "id": "5bb5ad22-4f54-42eb-ae2b-8c279b7ec415",
   "metadata": {},
   "outputs": [
    {
     "data": {
      "text/plain": [
       "'PLAN PARSED: original_query=\\'write an essay on the culture impact of the internet\\' description=\\'Plan for writing an essay on the cultural impact of the internet, breaking down into research, drafting, and revising stages.\\' tasks=[PlannerTask(id=1, description=\\'Research the cultural impact of the internet including positive and negative effects, changes in communication, social behavior, entertainment, and global connectivity.\\', tool_suggestions=\\'Use wiki_search and arxiv_search to gather credible background information and current perspectives.\\', status=\\'todo\\'), PlannerTask(id=2, description=\"Write an engaging introduction that outlines the importance and scope of the internet\\'s cultural impact.\", tool_suggestions=\\'Use the text generation tool or drafting tool.\\', status=\\'todo\\'), PlannerTask(id=3, description=\\'Draft the first body paragraph focusing on how the internet has changed communication and social interactions culturally.\\', tool_suggestions=\\'Use the text generation tool or drafting tool.\\', status=\\'todo\\'), PlannerTask(id=4, description=\\'Draft the second body paragraph addressing the impact of the internet on entertainment, media consumption, and cultural exchange.\\', tool_suggestions=\\'Use the text generation tool or drafting tool.\\', status=\\'todo\\'), PlannerTask(id=5, description=\"Draft the third body paragraph discussing the internet\\'s role in shaping global perspectives, activism, and cultural awareness.\", tool_suggestions=\\'Use the text generation tool or drafting tool.\\', status=\\'todo\\'), PlannerTask(id=6, description=\\'Write a conclusion summarizing the key points and reflecting on the future cultural implications of the internet.\\', tool_suggestions=\\'Use the text generation tool or drafting tool.\\', status=\\'todo\\'), PlannerTask(id=7, description=\\'Review and edit the entire essay for coherence, flow, and relevance to the essay topic.\\', tool_suggestions=\\'Use editing and proofreading tools.\\', status=\\'todo\\'), PlannerTask(id=8, description=\\'Proofread the final draft for grammar, punctuation, and spelling errors.\\', tool_suggestions=\\'Use proofreading tools.\\', status=\\'todo\\'), PlannerTask(id=9, description=\\'Prepare and return the final essay document to the user.\\', tool_suggestions=\\'Use the save_txt tool to format and save the final essay.\\', status=\\'todo\\')]'"
      ]
     },
     "execution_count": 18,
     "metadata": {},
     "output_type": "execute_result"
    }
   ],
   "source": [
    "f'PLAN PARSED: {plan_parsed}'"
   ]
  },
  {
   "cell_type": "code",
   "execution_count": 19,
   "id": "8cb80860-28f7-4ea8-b1d1-9890f1c91e89",
   "metadata": {},
   "outputs": [
    {
     "name": "stdout",
     "output_type": "stream",
     "text": [
      "\n",
      "              Plan to execute is: \n",
      "\n",
      "              Plan ID: write an essay on the culture impact of the internet\n",
      "              Plan Description: Plan for writing an essay on the cultural impact of the internet, breaking down into research, drafting, and revising stages.\n",
      "         \n",
      "\n",
      "              Executing task: \n",
      "\n",
      "              Task ID: 1 \n",
      "\n",
      "              Task description: Research the cultural impact of the internet including positive and negative effects, changes in communication, social behavior, entertainment, and global connectivity. \n",
      "\n",
      "              Tool suggestions: Use wiki_search and arxiv_search to gather credible background information and current perspectives. \n",
      "\n",
      "              Task status: todo \n",
      "\n",
      "              Previous Task Results: \n",
      "        \n"
     ]
    }
   ],
   "source": [
    "res = await orchestrator.execute_plan(plan_parsed)"
   ]
  },
  {
   "cell_type": "code",
   "execution_count": 20,
   "id": "0c8a10b4-02f3-4fa2-9fce-e9d531cf76f2",
   "metadata": {},
   "outputs": [
    {
     "data": {
      "text/plain": [
       "\"RES TYPE: <class 'list'>\""
      ]
     },
     "execution_count": 20,
     "metadata": {},
     "output_type": "execute_result"
    }
   ],
   "source": [
    "f'RES TYPE: {type(res)}'"
   ]
  },
  {
   "cell_type": "code",
   "execution_count": 21,
   "id": "1a9f09b1-ffe9-40d4-8f1c-2d87e1e12fe7",
   "metadata": {},
   "outputs": [
    {
     "data": {
      "text/plain": [
       "[ParsedResponse[ToolCalls](id='resp_688a78c67ad881a0a3724da37ec03afb0f3d5e87ca1a181d', created_at=1753905350.0, error=None, incomplete_details=None, instructions=None, metadata={}, model='gpt-4.1-mini-2025-04-14', object='response', output=[ParsedResponseFunctionToolCall(arguments='{\"query\":\"cultural impact of the internet\",\"sentences\":5}', call_id='call_jyf2WZVYXnEugMFlu0pchjnd', name='wiki_search', type='function_call', id='fc_688a78c726a081a0a6af59555fccbe750f3d5e87ca1a181d', status='completed', parsed_arguments=None), ParsedResponseFunctionToolCall(arguments='{\"query\":\"cultural impact of the internet\"}', call_id='call_00BnazgXS6jWlFWu3MvjyIrK', name='arxiv_search', type='function_call', id='fc_688a78c756a481a08acde5b889fa768a0f3d5e87ca1a181d', status='completed', parsed_arguments=None)], parallel_tool_calls=True, temperature=1.0, tool_choice='auto', tools=[FunctionTool(name='get_weather', parameters={'type': 'object', 'properties': {'latitude': {'title': 'latitude', 'type': 'string'}, 'longitude': {'title': 'longitude', 'type': 'string'}}, 'required': ['latitude', 'longitude']}, strict=True, type='function', description='Get current temperature for provided coordinates in celsius'), FunctionTool(name='wiki_search', parameters={'type': 'object', 'properties': {'query': {'title': 'Query', 'type': 'string'}, 'sentences': {'default': 2, 'title': 'Sentences', 'type': 'integer'}}, 'required': ['query']}, strict=True, type='function', description='Get current temperature for provided coordinates in celsius'), FunctionTool(name='save_txt', parameters={'type': 'object', 'properties': {'text': {'title': 'Text', 'type': 'string'}, 'filename': {'default': 'output.txt', 'title': 'Filename', 'type': 'string'}}, 'required': ['text']}, strict=True, type='function', description='Save text to a .txt file'), FunctionTool(name='arxiv_search', parameters={'type': 'object', 'properties': {'query': {'title': 'Query', 'type': 'string'}}, 'required': ['query']}, strict=True, type='function', description='Search arxiv')], top_p=1.0, background=False, max_output_tokens=None, max_tool_calls=None, previous_response_id=None, prompt=None, reasoning=Reasoning(effort=None, generate_summary=None, summary=None), service_tier='default', status='completed', text=ResponseTextConfig(format=ResponseFormatTextJSONSchemaConfig(name='ToolCalls', schema_={'$defs': {'ToolArguments': {'properties': {'query': {'description': 'The query or input for the tool.', 'title': 'Query', 'type': 'string'}, 'retries': {'anyOf': [{'type': 'integer'}, {'type': 'null'}], 'default': 0, 'description': 'Number of retries allowed.', 'title': 'Retries'}}, 'required': ['query', 'retries'], 'title': 'ToolArguments', 'type': 'object', 'additionalProperties': False}, 'ToolCall': {'description': 'Represents a tool call request from the LLM.', 'properties': {'id': {'description': 'The ID of the tool call.', 'title': 'Id', 'type': 'string'}, 'name': {'description': 'The name of the tool to call.', 'title': 'Name', 'type': 'string'}, 'arguments': {'description': 'The arguments to call the tool with.', 'properties': {'query': {'description': 'The query or input for the tool.', 'title': 'Query', 'type': 'string'}, 'retries': {'anyOf': [{'type': 'integer'}, {'type': 'null'}], 'default': 0, 'description': 'Number of retries allowed.', 'title': 'Retries'}}, 'required': ['query', 'retries'], 'title': 'ToolArguments', 'type': 'object', 'additionalProperties': False}}, 'required': ['id', 'name', 'arguments'], 'title': 'ToolCall', 'type': 'object', 'additionalProperties': False}}, 'properties': {'id': {'description': 'An ID for the tool calls', 'title': 'Id', 'type': 'integer'}, 'tool_calls': {'description': 'A list of tools to be executed sequentially.', 'items': {'$ref': '#/$defs/ToolCall'}, 'title': 'Tool Calls', 'type': 'array'}}, 'required': ['id', 'tool_calls'], 'title': 'ToolCalls', 'type': 'object', 'additionalProperties': False}, type='json_schema', description=None, strict=True)), top_logprobs=0, truncation='disabled', usage=ResponseUsage(input_tokens=516, input_tokens_details=InputTokensDetails(cached_tokens=0), output_tokens=62, output_tokens_details=OutputTokensDetails(reasoning_tokens=0), total_tokens=578), user=None, prompt_cache_key=None, safety_identifier=None, store=True)]"
      ]
     },
     "execution_count": 21,
     "metadata": {},
     "output_type": "execute_result"
    }
   ],
   "source": [
    "res"
   ]
  },
  {
   "cell_type": "code",
   "execution_count": 22,
   "id": "7a65e4ad-8340-4481-819f-dd2a30f18e7c",
   "metadata": {},
   "outputs": [
    {
     "data": {
      "text/plain": [
       "['__add__',\n",
       " '__class__',\n",
       " '__class_getitem__',\n",
       " '__contains__',\n",
       " '__delattr__',\n",
       " '__delitem__',\n",
       " '__dir__',\n",
       " '__doc__',\n",
       " '__eq__',\n",
       " '__format__',\n",
       " '__ge__',\n",
       " '__getattribute__',\n",
       " '__getitem__',\n",
       " '__getstate__',\n",
       " '__gt__',\n",
       " '__hash__',\n",
       " '__iadd__',\n",
       " '__imul__',\n",
       " '__init__',\n",
       " '__init_subclass__',\n",
       " '__iter__',\n",
       " '__le__',\n",
       " '__len__',\n",
       " '__lt__',\n",
       " '__mul__',\n",
       " '__ne__',\n",
       " '__new__',\n",
       " '__reduce__',\n",
       " '__reduce_ex__',\n",
       " '__repr__',\n",
       " '__reversed__',\n",
       " '__rmul__',\n",
       " '__setattr__',\n",
       " '__setitem__',\n",
       " '__sizeof__',\n",
       " '__str__',\n",
       " '__subclasshook__',\n",
       " 'append',\n",
       " 'clear',\n",
       " 'copy',\n",
       " 'count',\n",
       " 'extend',\n",
       " 'index',\n",
       " 'insert',\n",
       " 'pop',\n",
       " 'remove',\n",
       " 'reverse',\n",
       " 'sort']"
      ]
     },
     "execution_count": 22,
     "metadata": {},
     "output_type": "execute_result"
    }
   ],
   "source": [
    "dir(res)"
   ]
  },
  {
   "cell_type": "code",
   "execution_count": 23,
   "id": "568522c5-89c8-47c9-be35-5b1ae6b288ae",
   "metadata": {},
   "outputs": [
    {
     "data": {
      "text/plain": [
       "\"RES[0] TYPE: <class 'openai.types.responses.parsed_response.ParsedResponse[ToolCalls]'>\""
      ]
     },
     "execution_count": 23,
     "metadata": {},
     "output_type": "execute_result"
    }
   ],
   "source": [
    "f'RES[0] TYPE: {type(res[0])}'"
   ]
  },
  {
   "cell_type": "code",
   "execution_count": 24,
   "id": "c98fd243-04f0-4d6f-b5ec-94177fd6814e",
   "metadata": {},
   "outputs": [
    {
     "data": {
      "text/plain": [
       "ParsedResponse[ToolCalls](id='resp_688a78c67ad881a0a3724da37ec03afb0f3d5e87ca1a181d', created_at=1753905350.0, error=None, incomplete_details=None, instructions=None, metadata={}, model='gpt-4.1-mini-2025-04-14', object='response', output=[ParsedResponseFunctionToolCall(arguments='{\"query\":\"cultural impact of the internet\",\"sentences\":5}', call_id='call_jyf2WZVYXnEugMFlu0pchjnd', name='wiki_search', type='function_call', id='fc_688a78c726a081a0a6af59555fccbe750f3d5e87ca1a181d', status='completed', parsed_arguments=None), ParsedResponseFunctionToolCall(arguments='{\"query\":\"cultural impact of the internet\"}', call_id='call_00BnazgXS6jWlFWu3MvjyIrK', name='arxiv_search', type='function_call', id='fc_688a78c756a481a08acde5b889fa768a0f3d5e87ca1a181d', status='completed', parsed_arguments=None)], parallel_tool_calls=True, temperature=1.0, tool_choice='auto', tools=[FunctionTool(name='get_weather', parameters={'type': 'object', 'properties': {'latitude': {'title': 'latitude', 'type': 'string'}, 'longitude': {'title': 'longitude', 'type': 'string'}}, 'required': ['latitude', 'longitude']}, strict=True, type='function', description='Get current temperature for provided coordinates in celsius'), FunctionTool(name='wiki_search', parameters={'type': 'object', 'properties': {'query': {'title': 'Query', 'type': 'string'}, 'sentences': {'default': 2, 'title': 'Sentences', 'type': 'integer'}}, 'required': ['query']}, strict=True, type='function', description='Get current temperature for provided coordinates in celsius'), FunctionTool(name='save_txt', parameters={'type': 'object', 'properties': {'text': {'title': 'Text', 'type': 'string'}, 'filename': {'default': 'output.txt', 'title': 'Filename', 'type': 'string'}}, 'required': ['text']}, strict=True, type='function', description='Save text to a .txt file'), FunctionTool(name='arxiv_search', parameters={'type': 'object', 'properties': {'query': {'title': 'Query', 'type': 'string'}}, 'required': ['query']}, strict=True, type='function', description='Search arxiv')], top_p=1.0, background=False, max_output_tokens=None, max_tool_calls=None, previous_response_id=None, prompt=None, reasoning=Reasoning(effort=None, generate_summary=None, summary=None), service_tier='default', status='completed', text=ResponseTextConfig(format=ResponseFormatTextJSONSchemaConfig(name='ToolCalls', schema_={'$defs': {'ToolArguments': {'properties': {'query': {'description': 'The query or input for the tool.', 'title': 'Query', 'type': 'string'}, 'retries': {'anyOf': [{'type': 'integer'}, {'type': 'null'}], 'default': 0, 'description': 'Number of retries allowed.', 'title': 'Retries'}}, 'required': ['query', 'retries'], 'title': 'ToolArguments', 'type': 'object', 'additionalProperties': False}, 'ToolCall': {'description': 'Represents a tool call request from the LLM.', 'properties': {'id': {'description': 'The ID of the tool call.', 'title': 'Id', 'type': 'string'}, 'name': {'description': 'The name of the tool to call.', 'title': 'Name', 'type': 'string'}, 'arguments': {'description': 'The arguments to call the tool with.', 'properties': {'query': {'description': 'The query or input for the tool.', 'title': 'Query', 'type': 'string'}, 'retries': {'anyOf': [{'type': 'integer'}, {'type': 'null'}], 'default': 0, 'description': 'Number of retries allowed.', 'title': 'Retries'}}, 'required': ['query', 'retries'], 'title': 'ToolArguments', 'type': 'object', 'additionalProperties': False}}, 'required': ['id', 'name', 'arguments'], 'title': 'ToolCall', 'type': 'object', 'additionalProperties': False}}, 'properties': {'id': {'description': 'An ID for the tool calls', 'title': 'Id', 'type': 'integer'}, 'tool_calls': {'description': 'A list of tools to be executed sequentially.', 'items': {'$ref': '#/$defs/ToolCall'}, 'title': 'Tool Calls', 'type': 'array'}}, 'required': ['id', 'tool_calls'], 'title': 'ToolCalls', 'type': 'object', 'additionalProperties': False}, type='json_schema', description=None, strict=True)), top_logprobs=0, truncation='disabled', usage=ResponseUsage(input_tokens=516, input_tokens_details=InputTokensDetails(cached_tokens=0), output_tokens=62, output_tokens_details=OutputTokensDetails(reasoning_tokens=0), total_tokens=578), user=None, prompt_cache_key=None, safety_identifier=None, store=True)"
      ]
     },
     "execution_count": 24,
     "metadata": {},
     "output_type": "execute_result"
    }
   ],
   "source": [
    "res[0]"
   ]
  },
  {
   "cell_type": "code",
   "execution_count": 25,
   "id": "0cb8ed04-c00f-44f1-9737-a953673abc68",
   "metadata": {},
   "outputs": [
    {
     "data": {
      "text/plain": [
       "['__abstractmethods__',\n",
       " '__annotations__',\n",
       " '__class__',\n",
       " '__class_getitem__',\n",
       " '__class_vars__',\n",
       " '__copy__',\n",
       " '__deepcopy__',\n",
       " '__delattr__',\n",
       " '__dict__',\n",
       " '__dir__',\n",
       " '__doc__',\n",
       " '__eq__',\n",
       " '__fields__',\n",
       " '__fields_set__',\n",
       " '__firstlineno__',\n",
       " '__format__',\n",
       " '__ge__',\n",
       " '__get_pydantic_core_schema__',\n",
       " '__get_pydantic_json_schema__',\n",
       " '__getattr__',\n",
       " '__getattribute__',\n",
       " '__getstate__',\n",
       " '__gt__',\n",
       " '__hash__',\n",
       " '__init__',\n",
       " '__init_subclass__',\n",
       " '__iter__',\n",
       " '__le__',\n",
       " '__lt__',\n",
       " '__module__',\n",
       " '__ne__',\n",
       " '__new__',\n",
       " '__orig_bases__',\n",
       " '__parameters__',\n",
       " '__pretty__',\n",
       " '__private_attributes__',\n",
       " '__pydantic_complete__',\n",
       " '__pydantic_computed_fields__',\n",
       " '__pydantic_core_schema__',\n",
       " '__pydantic_custom_init__',\n",
       " '__pydantic_decorators__',\n",
       " '__pydantic_extra__',\n",
       " '__pydantic_fields__',\n",
       " '__pydantic_fields_set__',\n",
       " '__pydantic_generic_metadata__',\n",
       " '__pydantic_init_subclass__',\n",
       " '__pydantic_parent_namespace__',\n",
       " '__pydantic_post_init__',\n",
       " '__pydantic_private__',\n",
       " '__pydantic_root_model__',\n",
       " '__pydantic_serializer__',\n",
       " '__pydantic_setattr_handlers__',\n",
       " '__pydantic_validator__',\n",
       " '__reduce__',\n",
       " '__reduce_ex__',\n",
       " '__replace__',\n",
       " '__repr__',\n",
       " '__repr_args__',\n",
       " '__repr_name__',\n",
       " '__repr_recursion__',\n",
       " '__repr_str__',\n",
       " '__rich_repr__',\n",
       " '__setattr__',\n",
       " '__setstate__',\n",
       " '__signature__',\n",
       " '__sizeof__',\n",
       " '__slots__',\n",
       " '__static_attributes__',\n",
       " '__str__',\n",
       " '__subclasshook__',\n",
       " '__weakref__',\n",
       " '_abc_impl',\n",
       " '_calculate_keys',\n",
       " '_copy_and_set_values',\n",
       " '_get_value',\n",
       " '_iter',\n",
       " '_request_id',\n",
       " '_setattr_handler',\n",
       " 'background',\n",
       " 'construct',\n",
       " 'copy',\n",
       " 'created_at',\n",
       " 'dict',\n",
       " 'error',\n",
       " 'from_orm',\n",
       " 'id',\n",
       " 'incomplete_details',\n",
       " 'instructions',\n",
       " 'json',\n",
       " 'max_output_tokens',\n",
       " 'max_tool_calls',\n",
       " 'metadata',\n",
       " 'model',\n",
       " 'model_computed_fields',\n",
       " 'model_config',\n",
       " 'model_construct',\n",
       " 'model_copy',\n",
       " 'model_dump',\n",
       " 'model_dump_json',\n",
       " 'model_extra',\n",
       " 'model_fields',\n",
       " 'model_fields_set',\n",
       " 'model_json_schema',\n",
       " 'model_parametrized_name',\n",
       " 'model_post_init',\n",
       " 'model_rebuild',\n",
       " 'model_validate',\n",
       " 'model_validate_json',\n",
       " 'model_validate_strings',\n",
       " 'object',\n",
       " 'output',\n",
       " 'output_parsed',\n",
       " 'output_text',\n",
       " 'parallel_tool_calls',\n",
       " 'parse_file',\n",
       " 'parse_obj',\n",
       " 'parse_raw',\n",
       " 'previous_response_id',\n",
       " 'prompt',\n",
       " 'reasoning',\n",
       " 'schema',\n",
       " 'schema_json',\n",
       " 'service_tier',\n",
       " 'status',\n",
       " 'temperature',\n",
       " 'text',\n",
       " 'to_dict',\n",
       " 'to_json',\n",
       " 'tool_choice',\n",
       " 'tools',\n",
       " 'top_logprobs',\n",
       " 'top_p',\n",
       " 'truncation',\n",
       " 'update_forward_refs',\n",
       " 'usage',\n",
       " 'user',\n",
       " 'validate']"
      ]
     },
     "execution_count": 25,
     "metadata": {},
     "output_type": "execute_result"
    }
   ],
   "source": [
    "dir(res[0])"
   ]
  },
  {
   "cell_type": "code",
   "execution_count": 26,
   "id": "994f7dd9-cb8b-4c41-8676-2ac7af028e1e",
   "metadata": {},
   "outputs": [
    {
     "data": {
      "text/plain": [
       "[ParsedResponseFunctionToolCall(arguments='{\"query\":\"cultural impact of the internet\",\"sentences\":5}', call_id='call_jyf2WZVYXnEugMFlu0pchjnd', name='wiki_search', type='function_call', id='fc_688a78c726a081a0a6af59555fccbe750f3d5e87ca1a181d', status='completed', parsed_arguments=None),\n",
       " ParsedResponseFunctionToolCall(arguments='{\"query\":\"cultural impact of the internet\"}', call_id='call_00BnazgXS6jWlFWu3MvjyIrK', name='arxiv_search', type='function_call', id='fc_688a78c756a481a08acde5b889fa768a0f3d5e87ca1a181d', status='completed', parsed_arguments=None)]"
      ]
     },
     "execution_count": 26,
     "metadata": {},
     "output_type": "execute_result"
    }
   ],
   "source": [
    "res[0].output"
   ]
  },
  {
   "cell_type": "code",
   "execution_count": 48,
   "id": "6a2e660d-0abc-45da-b1a7-5699ffe2194d",
   "metadata": {},
   "outputs": [
    {
     "name": "stdout",
     "output_type": "stream",
     "text": [
      "None\n"
     ]
    }
   ],
   "source": []
  },
  {
   "cell_type": "code",
   "execution_count": 26,
   "id": "7bb110e7-3a78-48ef-ae50-912856230075",
   "metadata": {},
   "outputs": [
    {
     "data": {
      "text/plain": [
       "[ParsedResponse[ToolCalls](id='resp_688a73b103188191867e41618ba6f9510b5f419bcc4fc913', created_at=1753904049.0, error=None, incomplete_details=None, instructions=None, metadata={}, model='gpt-4.1-mini-2025-04-14', object='response', output=[ParsedResponseFunctionToolCall(arguments='{\"query\":\"cultural impact of the internet\",\"sentences\":5}', call_id='call_DkXhdEGV6T15R5Bj4L6HTKiV', name='wiki_search', type='function_call', id='fc_688a73b178288191b2d4b7b9fa61be560b5f419bcc4fc913', status='completed', parsed_arguments=None)], parallel_tool_calls=True, temperature=1.0, tool_choice='auto', tools=[FunctionTool(name='get_weather', parameters={'type': 'object', 'properties': {'latitude': {'title': 'latitude', 'type': 'string'}, 'longitude': {'title': 'longitude', 'type': 'string'}}, 'required': ['latitude', 'longitude']}, strict=True, type='function', description='Get current temperature for provided coordinates in celsius'), FunctionTool(name='wiki_search', parameters={'type': 'object', 'properties': {'query': {'title': 'Query', 'type': 'string'}, 'sentences': {'default': 2, 'title': 'Sentences', 'type': 'integer'}}, 'required': ['query']}, strict=True, type='function', description='Get current temperature for provided coordinates in celsius'), FunctionTool(name='save_txt', parameters={'type': 'object', 'properties': {'text': {'title': 'Text', 'type': 'string'}, 'filename': {'default': 'output.txt', 'title': 'Filename', 'type': 'string'}}, 'required': ['text']}, strict=True, type='function', description='Save text to a .txt file'), FunctionTool(name='arxiv_search', parameters={'type': 'object', 'properties': {'query': {'title': 'Query', 'type': 'string'}}, 'required': ['query']}, strict=True, type='function', description='Search arxiv')], top_p=1.0, background=False, max_output_tokens=None, max_tool_calls=None, previous_response_id=None, prompt=None, reasoning=Reasoning(effort=None, generate_summary=None, summary=None), service_tier='default', status='completed', text=ResponseTextConfig(format=ResponseFormatTextJSONSchemaConfig(name='ToolCalls', schema_={'$defs': {'ToolArguments': {'properties': {'query': {'description': 'The query or input for the tool.', 'title': 'Query', 'type': 'string'}, 'retries': {'anyOf': [{'type': 'integer'}, {'type': 'null'}], 'default': 0, 'description': 'Number of retries allowed.', 'title': 'Retries'}}, 'required': ['query', 'retries'], 'title': 'ToolArguments', 'type': 'object', 'additionalProperties': False}, 'ToolCall': {'description': 'Represents a tool call request from the LLM.', 'properties': {'id': {'description': 'The ID of the tool call.', 'title': 'Id', 'type': 'string'}, 'name': {'description': 'The name of the tool to call.', 'title': 'Name', 'type': 'string'}, 'arguments': {'description': 'The arguments to call the tool with.', 'properties': {'query': {'description': 'The query or input for the tool.', 'title': 'Query', 'type': 'string'}, 'retries': {'anyOf': [{'type': 'integer'}, {'type': 'null'}], 'default': 0, 'description': 'Number of retries allowed.', 'title': 'Retries'}}, 'required': ['query', 'retries'], 'title': 'ToolArguments', 'type': 'object', 'additionalProperties': False}}, 'required': ['id', 'name', 'arguments'], 'title': 'ToolCall', 'type': 'object', 'additionalProperties': False}}, 'properties': {'tool_calls': {'items': {'$ref': '#/$defs/ToolCall'}, 'title': 'Tool Calls', 'type': 'array'}}, 'required': ['tool_calls'], 'title': 'ToolCalls', 'type': 'object', 'additionalProperties': False}, type='json_schema', description=None, strict=True)), top_logprobs=0, truncation='disabled', usage=ResponseUsage(input_tokens=483, input_tokens_details=InputTokensDetails(cached_tokens=0), output_tokens=26, output_tokens_details=OutputTokensDetails(reasoning_tokens=0), total_tokens=509), user=None, prompt_cache_key=None, safety_identifier=None, store=True)]"
      ]
     },
     "execution_count": 26,
     "metadata": {},
     "output_type": "execute_result"
    }
   ],
   "source": [
    "f'EXCUTE TASK RESULT: {res}'"
   ]
  },
  {
   "cell_type": "code",
   "execution_count": null,
   "id": "94f95e56-17eb-4d96-873b-144f4b8d6aa2",
   "metadata": {},
   "outputs": [],
   "source": []
  },
  {
   "cell_type": "code",
   "execution_count": null,
   "id": "1e47556e-fe69-4a54-9d24-5318dcef7466",
   "metadata": {},
   "outputs": [],
   "source": []
  }
 ],
 "metadata": {
  "kernelspec": {
   "display_name": "Python 3 (ipykernel)",
   "language": "python",
   "name": "python3"
  },
  "language_info": {
   "codemirror_mode": {
    "name": "ipython",
    "version": 3
   },
   "file_extension": ".py",
   "mimetype": "text/x-python",
   "name": "python",
   "nbconvert_exporter": "python",
   "pygments_lexer": "ipython3",
   "version": "3.13.1"
  }
 },
 "nbformat": 4,
 "nbformat_minor": 5
}
